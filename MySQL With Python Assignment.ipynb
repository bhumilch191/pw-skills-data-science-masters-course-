{
 "cells": [
  {
   "cell_type": "markdown",
   "id": "ff34084a",
   "metadata": {},
   "source": [
    "#### Q1. What is a database? Differentiate between SQL and NoSQL databases."
   ]
  },
  {
   "cell_type": "code",
   "execution_count": null,
   "id": "5ede5727",
   "metadata": {},
   "outputs": [],
   "source": [
    "# -->Database is place where we can store millions or billions of data in differents ways.\n",
    "\n",
    "# ->SQL database stands from Structured Query Language. And NoSQL database stands from Non Structured Query Language.\n",
    "# ->SQL database in the form of relations. Where nosql database in the form of distributed data or no relational form.\n",
    "# ->SQL database display data in form of tables that is collection of rows and column. Where Nosql database display\n",
    "#    data in form of key-values pair, graph, documents.\n",
    "# ->SQL databases have fixed or static or predefined schema. where NoSQL databases have dynamic schema.\n",
    "# ->SQL database Ex:MySQL,MSSQL,Oracle etc. Where NoSQL database Ex:MongoDB,Redis,Neo4j,BigTable etc."
   ]
  },
  {
   "cell_type": "markdown",
   "id": "98b2d885",
   "metadata": {},
   "source": [
    "#### Q2. What is DDL? Explain why CREATE, DROP, ALTER, and TRUNCATE are used with an example."
   ]
  },
  {
   "cell_type": "code",
   "execution_count": null,
   "id": "53aad49a",
   "metadata": {},
   "outputs": [],
   "source": [
    "# --> DDL stands from Data Definition Language. \n",
    "# ->CREATE, DROP, ALTER, and TRUNCATE are DDL commads.That is used to perform different task such as\n",
    "# ->CREATE - to create a database and its objects like (table, index, views, store procedure, function, and triggers)\n",
    "#           Ex: CREATE DATABASE dtabase1;\n",
    "# ->ALTER - This command is used to add, delete or change columns in the existing table.\n",
    "#           Ex: ALTER TABLE Table1 ADD Address VARCHAR(50);\n",
    "# ->DROP - delete objects from the database\n",
    "#           Ex: DROP TABLE Address;\n",
    "# ->TRUNCATE - This command is used to remove all rows from the table, but the structure of the table still exists.\n",
    "#           Ex: TRUNCATE TABLE Address;"
   ]
  },
  {
   "cell_type": "markdown",
   "id": "0a9a29f1",
   "metadata": {},
   "source": [
    "#### Q3. What is DML? Explain INSERT, UPDATE, and DELETE with an example."
   ]
  },
  {
   "cell_type": "code",
   "execution_count": null,
   "id": "35f70ea1",
   "metadata": {},
   "outputs": [],
   "source": [
    "# -->DML stands from Data Manipulation Language. \n",
    "# -->DML commands such as INSERT, UPDATE, and DELETE.\n",
    "\n",
    "# ->INSERT:- It is used to insert new row data into a table.There are two ways of using the SQL INSERT statement.\n",
    "#         1.Only values: The value of data without inserted column names.\n",
    "            \n",
    "#             Syntax: INSERT INTO table_name values();\n",
    "#             Ex:INSERT INTO Student VALUES ('5','HARSH','WEST BENGAL','XXXXXXXXXX','19');\n",
    "        \n",
    "#         2.Column name and values: Specify both column name and values.\n",
    "            \n",
    "#             Syntax: INSERT INTO table_name (c1,c2,c3,..) VALUES (v1,v2,v3,..);\n",
    "#             Ex:INSERT INTO Student (ROLL_NO, NAME, Age) VALUES ('5','PRATIK','19');\n",
    "        \n",
    "# ->UPDATE:- It is used to update existing data within a table.We can update single columns as well as multiple \n",
    "#         columns using the UPDATE statement as per our requirement.\n",
    "        \n",
    "#         Syntax:UPDATE table_name SET column1 = value1, column2 = value2;\n",
    "#             Ex:Update the column NAME and set the value to ‘Nitin’ in the rows where the Age is 22\n",
    "#                 UPDATE Customer SET CustomerName = 'Nitin' WHERE Age = 22;\n",
    "        \n",
    "# ->DELETE:- Existing records in a table can be deleted using the SQL DELETE Statement. We can delete a single \n",
    "#         record or multiple records depending on the condition we specify in the WHERE clause.\n",
    "        \n",
    "#         Syntax: DELETE FROM table_name WHERE some_condition;\n",
    "#             Ex:Delete the rows where NAME = ‘Rithvik’. This will delete only the fourth row.\n",
    "#                 DELETE FROM Employees WHERE Name = 'Bhumil';"
   ]
  },
  {
   "cell_type": "markdown",
   "id": "8bad2488",
   "metadata": {},
   "source": [
    "#### Q4. What is DQL? Explain SELECT with an example."
   ]
  },
  {
   "cell_type": "code",
   "execution_count": null,
   "id": "0b01ba98",
   "metadata": {},
   "outputs": [],
   "source": [
    "DQL stands from Data Query Language.\n",
    "SELECT command used in DQL.\n",
    "SELECT statements in SQL is used to retrieve or fetch data from a database.\n",
    "\n",
    "Syntax:  SELECT * FROM table_name; \n",
    "        asterisks(*) represent all attributes of the table\n",
    "        \n",
    "        Ex:To fetch all the fields from the table Customer:\n",
    "            SELECT * FROM Customer;\n"
   ]
  },
  {
   "cell_type": "markdown",
   "id": "06fe61e0",
   "metadata": {},
   "source": [
    "#### Q5. Explain Primary Key and Foreign Key."
   ]
  },
  {
   "cell_type": "code",
   "execution_count": null,
   "id": "31278d2a",
   "metadata": {},
   "outputs": [],
   "source": [
    "Primary Key: There is only one primary key in each and every relation.\n",
    "It is a unique key.\n",
    "It can identify only one tuple (a record) at a time.\n",
    "It has no duplicate values, it has unique values.\n",
    "It cannot be NULL.\n",
    "Primary keys are not necessarily to be a single column; more than one column can also be a primary key for a table\n",
    " Example:\n",
    "    STUDENT table -> Student(STUD_NO, SNAME, \n",
    "    ADDRESS, PHONE) , STUD_NO is a primary key\n",
    "\n",
    "Foreign Key: It is a key it acts as a primary key in one table and it acts as secondary key in another table.\n",
    "It combines two or more relations (tables) at a time.\n",
    "They act as a cross-reference between the tables.\n",
    "For example, DNO is a primary key in the DEPT table and a non-key in EMP"
   ]
  },
  {
   "cell_type": "markdown",
   "id": "bcc7ad57",
   "metadata": {},
   "source": [
    "#### Q6. Write a python code to connect MySQL to python. Explain the cursor() and execute() method."
   ]
  },
  {
   "cell_type": "code",
   "execution_count": null,
   "id": "a9d4edd4",
   "metadata": {},
   "outputs": [],
   "source": [
    "Python code:\n",
    "import mysql.connector\n",
    "mydb = mysql.connector.connect(\n",
    "  host=\"localhost\",\n",
    "  user=\"abc\",\n",
    "  password=\"password\"\n",
    ")\n",
    "print(mydb)\n",
    "mycursor = mydb.cursor()\n",
    "mycursor.execute(\"SHOW DATABASES\")\n",
    "\n",
    "cursor(): This function is used to fatch databases, tables, table's objects etc.  \n",
    "execute(): this function is used for the dynamic execution of Python program which can either be a string or object code. "
   ]
  },
  {
   "cell_type": "markdown",
   "id": "28764a4b",
   "metadata": {},
   "source": [
    "#### Q7. Give the order of execution of SQL clauses in an SQL query."
   ]
  },
  {
   "cell_type": "code",
   "execution_count": null,
   "id": "41a60fc2",
   "metadata": {},
   "outputs": [],
   "source": [
    "# 1.FROM clause\n",
    "# 2.ON clause\n",
    "# 3.OUTER clause\n",
    "# 4.WHERE clause\n",
    "# 5.GROUP BY clause\n",
    "# 6.HAVING clause\n",
    "# 7.SELECT clause\n",
    "# 8.DISTINCT clause\n",
    "# 9.ORDER BY clause\n",
    "# 10.TOP clause"
   ]
  }
 ],
 "metadata": {
  "kernelspec": {
   "display_name": "Python 3 (ipykernel)",
   "language": "python",
   "name": "python3"
  },
  "language_info": {
   "codemirror_mode": {
    "name": "ipython",
    "version": 3
   },
   "file_extension": ".py",
   "mimetype": "text/x-python",
   "name": "python",
   "nbconvert_exporter": "python",
   "pygments_lexer": "ipython3",
   "version": "3.10.5"
  }
 },
 "nbformat": 4,
 "nbformat_minor": 5
}
