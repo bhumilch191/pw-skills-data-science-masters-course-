{
 "cells": [
  {
   "cell_type": "markdown",
   "id": "fe49066c-5e02-4bb3-912e-48858bd991a4",
   "metadata": {},
   "source": [
    "#### Q1. Explain the following with an example:\n",
    "1) Artificial Intelligency\n",
    "2) Machine Learnin,\n",
    "3) Deep Learning"
   ]
  },
  {
   "cell_type": "code",
   "execution_count": 2,
   "id": "1c17a8c0-43b9-4f15-bca0-3c3d2c2ca852",
   "metadata": {},
   "outputs": [],
   "source": [
    "# Artificial Intelligence (AI):\n",
    "#     Definition: Artificial Intelligence refers to the development of computer systems that can perform tasks that typically\n",
    "#     require human intelligence.This includes tasks such as visual perception,speech recognition,decision-making, and language translation.\n",
    "#     Example: Chatbots are a common example of AI. They use Natural Language Processing (NLP) algorithms to understand and respond \n",
    "#     to user queries in a conversational manner.\n",
    "\n",
    "# Machine Learning (ML):\n",
    "#     Definition: Machine Learning is a subset of AI that focuses on the development of algorithms and statistical models that\n",
    "#     enable computers to improve their performance on a task through experience (data).\n",
    "#     Example: Consider a spam email filter. Through exposure to labeled data (spam and non-spam emails), the algorithm learns \n",
    "#     patterns and characteristics of spam emails, enabling it to classify new emails as spam or not.\n",
    "\n",
    "# Deep Learning (DL):\n",
    "#     Definition: Deep Learning is a subfield of machine learning that involves neural networks with many layers (deep neural networks).\n",
    "#     It aims to automatically learn hierarchical representations of data.\n",
    "#     Example: Image recognition tasks, where deep neural networks, such as Convolutional Neural Networks (CNNs), can automatically\n",
    "#     learn and recognize features in images, leading to accurate identification of objects.arning)"
   ]
  },
  {
   "cell_type": "markdown",
   "id": "40ac6773-706c-4e6b-8e93-c52029befcbc",
   "metadata": {},
   "source": [
    "#### Q2. What is supervised learning? List some examples of supervised learning."
   ]
  },
  {
   "cell_type": "code",
   "execution_count": 3,
   "id": "abd0db8a-44d0-4cf8-b6b2-cb63a6f588d6",
   "metadata": {},
   "outputs": [],
   "source": [
    "# Supervised Learning: In supervised learning, the algorithm is trained on a labeled dataset, where each input is paired with\n",
    "# the corresponding correct output. The goal is to learn a mapping from inputs to outputs.\n",
    "\n",
    "# Examples:\n",
    "# Linear Regression: Predicting house prices based on features like square footage, number of bedrooms, etc.\n",
    "# Classification (e.g., Logistic Regression): Identifying whether an email is spam or not based on features of the email.\n",
    "# Support Vector Machines (SVM): Classifying images of handwritten digits (e.g., recognizing digits 0-9)."
   ]
  },
  {
   "cell_type": "markdown",
   "id": "58ef4d79-2095-42bd-b8a1-09fdf6b48a66",
   "metadata": {},
   "source": [
    "#### Q3. What is unsupervised lKarning? List some examples of unsupervised learning."
   ]
  },
  {
   "cell_type": "code",
   "execution_count": 4,
   "id": "1ce4e659-d5e2-455f-93eb-99365b1eca11",
   "metadata": {},
   "outputs": [],
   "source": [
    "# Unsupervised Learning: In unsupervised learning, the algorithm is given unlabeled data and must find patterns or structures \n",
    "# in the data without explicit guidance.\n",
    "\n",
    "# Examples:\n",
    "# Clustering (e.g., K-Means): Grouping customers based on their purchasing behavior without predefined categories.\n",
    "# Dimensionality Reduction (e.g., Principal Component Analysis - PCA): Reducing the number of features in a dataset while\n",
    "# retaining essential information.Association (e.g., Apriori Algorithm): Discovering rules that describe relationships \n",
    "# between variables in large datasets."
   ]
  },
  {
   "cell_type": "markdown",
   "id": "d76bf405-b09d-4b75-aa14-6775f0cd3a49",
   "metadata": {},
   "source": [
    "#### Q4. What is the difference between AI, ML, DL, and DS?"
   ]
  },
  {
   "cell_type": "code",
   "execution_count": 5,
   "id": "357d3a5c-5165-4f03-bed7-440fd2900bac",
   "metadata": {},
   "outputs": [],
   "source": [
    "# AI (Artificial Intelligence): The broader concept of machines mimicking human intelligence.\n",
    "\n",
    "# ML (Machine Learning): A subset of AI focused on algorithms that can learn patterns from data.\n",
    "\n",
    "# DL (Deep Learning): A subset of ML involving neural networks with multiple layers.\n",
    "\n",
    "# DS (Data Science): Involves extracting insights and knowledge from structured and unstructured data, using techniques from statistics, machine learning, and other disciplines."
   ]
  },
  {
   "cell_type": "markdown",
   "id": "95a0c5f3-3b90-42ee-9361-7501db71e0ab",
   "metadata": {},
   "source": [
    "#### Q5. What are the main differences between supervised, unsupervised, and semi-supervised learning?"
   ]
  },
  {
   "cell_type": "code",
   "execution_count": 6,
   "id": "36553b45-6015-4e3a-9560-7436fa30c37b",
   "metadata": {},
   "outputs": [],
   "source": [
    "# Supervised Learning: Training with labeled data, predicting outcomes based on input-output mappings.\n",
    "\n",
    "# Unsupervised Learning: Training without labeled data, finding patterns or structures in the data.\n",
    "\n",
    "# Semi-Supervised Learning: Uses a combination of labeled and unlabeled data for training."
   ]
  },
  {
   "cell_type": "markdown",
   "id": "bd45c4a9-dc97-4cc1-b1a1-8307a0fc248d",
   "metadata": {},
   "source": [
    "#### Q6. What is train, test and validation split? Explain the importance of each term."
   ]
  },
  {
   "cell_type": "code",
   "execution_count": 7,
   "id": "86aa5b58-a7dc-4aac-a94e-1dd37ac85c99",
   "metadata": {},
   "outputs": [],
   "source": [
    "# Train Set: The portion of the data used for training the model.\n",
    "\n",
    "# Test Set: The portion of the data used for evaluating the model's performance.\n",
    "\n",
    "# Validation Set: An additional dataset used during training to fine-tune hyperparameters and avoid overfitting.\n",
    "\n",
    "# Importance:\n",
    "# Train Set: Teaches the model.\n",
    "\n",
    "# Validation Set: Guides model selection and hyperparameter tuning.\n",
    "\n",
    "# Test Set: Assesses the model's generalization to new, unseen data."
   ]
  },
  {
   "cell_type": "markdown",
   "id": "752b9a88-2a56-44b3-9fd7-09bfba10b906",
   "metadata": {},
   "source": [
    "#### Q7. How can unsupervised learning be used in anomaly detection?"
   ]
  },
  {
   "cell_type": "code",
   "execution_count": 8,
   "id": "d6035b36-a541-4955-8d35-dbe2a1d39141",
   "metadata": {},
   "outputs": [],
   "source": [
    "# Unsupervised learning algorithms can identify patterns and structures in data. In anomaly detection, the algorithm learns the \n",
    "# normal behavior of the system and flags instances that deviate significantly from this norm as anomalies."
   ]
  },
  {
   "cell_type": "markdown",
   "id": "c733a69b-ba97-4dab-88f1-18cc0ea0b31c",
   "metadata": {},
   "source": [
    "#### Q8. List down some commonly used supervised learning algorithms and unsupervised learning algorithms."
   ]
  },
  {
   "cell_type": "code",
   "execution_count": 9,
   "id": "65f2a377-ed23-498a-b09e-7daee7551e44",
   "metadata": {},
   "outputs": [],
   "source": [
    "# Supervised Learning Algorithms:\n",
    "#     Linear Regression,\n",
    "#     Logistic Regression,\n",
    "#     Decision Trees,\n",
    "#     Random Forest,\n",
    "#     Support Vector Machines,\n",
    "#     K-Nearest Neighbors,\n",
    "#     Neural Networks (Deep Learning)\n",
    "\n",
    "# Unsupervised Learning Algorithms:\n",
    "#     K-Means Clustering,\n",
    "#     Hierarchical Clustering,\n",
    "#     Principal Component Analysis (PCA),\n",
    "#     t-Distributed Stochastic Neighbor Embedding (t-SNE),\n",
    "#     Apriori Algorithm (Association Rule Learning),\n",
    "#     Gaussian Mixture Models (GMM),\n",
    "#     Autoencoders (Deep Learning)"
   ]
  },
  {
   "cell_type": "code",
   "execution_count": null,
   "id": "924d4bae-5f09-4d35-8df4-dcd1ebfb976b",
   "metadata": {},
   "outputs": [],
   "source": []
  }
 ],
 "metadata": {
  "kernelspec": {
   "display_name": "Python 3 (ipykernel)",
   "language": "python",
   "name": "python3"
  },
  "language_info": {
   "codemirror_mode": {
    "name": "ipython",
    "version": 3
   },
   "file_extension": ".py",
   "mimetype": "text/x-python",
   "name": "python",
   "nbconvert_exporter": "python",
   "pygments_lexer": "ipython3",
   "version": "3.11.5"
  }
 },
 "nbformat": 4,
 "nbformat_minor": 5
}
