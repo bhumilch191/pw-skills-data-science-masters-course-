{
 "cells": [
  {
   "cell_type": "raw",
   "id": "96e0b6ff-b084-4666-822c-187662a6f37f",
   "metadata": {},
   "source": [
    "Q1. Explain the following with an example:\n",
    "1) Artificial Intelligency\n",
    "2) Machine Learnin,\n",
    "3) Deep Learning"
   ]
  },
  {
   "cell_type": "markdown",
   "id": "af5c9de4-dd68-41fd-80e7-c5238eeecc91",
   "metadata": {},
   "source": [
    "Artificial Intelligence (AI):\n",
    "\n",
    "Definition: Artificial Intelligence refers to the ability of machines or software to perform tasks that typically require human intelligence. These tasks include understanding natural language, recognizing patterns, making decisions, learning from experience, solving problems, and more\n",
    "\r\n",
    "Example: One example of AI is natural language processing (NLP), where algorithms analyze and generate human language. Chatbots, virtu\n",
    "l assistants (like Siri or Alexa), and language translation services are all powered by P.P\n",
    "\n",
    ".\r\n",
    "Machine Learning (M\n",
    "):\r\n",
    "Definition: Machine Learning is a subset of AI that focuses on creating algorithms and models that can learn from data. Instead of explicitly programming a machine, we feed it data, and it learns how to perform tasks on its \n",
    "wn.\r\n",
    "Example: Linear regression is an ML algorithm used for predicting numerical values. For instance, predicting house prices based on features like square footage, number of bedr oms, \n",
    "\n",
    "etc.\r\n",
    "Deep Learning\n",
    "(DL):\r\n",
    "Definition: Deep Learning is a subset of ML that involves using artificial neural networks (deep neural networks) to solve complex problems. It excels at tasks like image recognition, natural language understanding, and speech recog\n",
    "ition.\r\n",
    "Example: Convolutional Neural Networks (CNNs) are commonly used in DL for image classification tasks. For instance, identifying objects in images (e.g., cats, dogs, cars).\r\n",
    "Learning)"
   ]
  },
  {
   "cell_type": "raw",
   "id": "f8afc359-90dc-473c-a30f-2687fe2c90bf",
   "metadata": {},
   "source": [
    "Q2. What is supervised learning? List some examples of supervised learning."
   ]
  },
  {
   "cell_type": "markdown",
   "id": "8aca506e-5450-423b-a3b4-2b26cf05ff7e",
   "metadata": {},
   "source": [
    "Supervised Learning: In supervised learning, the algorithm is trained on a labeled dataset, where each input is paired with the corresponding correct output. The goal is to learn a mapping from inputs to outputs.\n",
    "\n",
    "Examples:\n",
    "Linear Regression: Predicting house prices based on features like square footage, number of bedrooms, etc.\n",
    "Classification (e.g., Logistic Regression): Identifying whether an email is spam or not based on features of the email.\n",
    "Support Vector Machines (SVM): Classifying images of handwritten digits (e.g., recognizing digits 0-9)."
   ]
  },
  {
   "cell_type": "raw",
   "id": "f8191bdf-4da1-4d88-b177-6cdf854a74c2",
   "metadata": {},
   "source": [
    "Q3. What is unsupervised lKarning? List some examples of unsupervised learning."
   ]
  },
  {
   "cell_type": "markdown",
   "id": "66163e0b-0c88-4af8-ad06-3304f119dbe9",
   "metadata": {},
   "source": [
    "Unsupervised Learning: In unsupervised learning, the algorithm is given unlabeled data and must find patterns or structures in the data without explicit guidance.\n",
    "\n",
    "Examples:\n",
    "Clustering (e.g., K-Means): Grouping customers based on their purchasing behavior without predefined categories.\n",
    "Dimensionality Reduction (e.g., Principal Component Analysis - PCA): Reducing the number of features in a dataset while retaining essential information.\n",
    "Association (e.g., Apriori Algorithm): Discovering rules that describe relationships between variables in large datasets."
   ]
  },
  {
   "cell_type": "raw",
   "id": "8706cbfc-29d2-4e3c-b86e-10823a81dd15",
   "metadata": {},
   "source": [
    "Q4. What is the difference between AI, ML, DL, and DS?"
   ]
  },
  {
   "cell_type": "markdown",
   "id": "76305e53-71cd-4a2a-a2f3-13d6e7f8f0b4",
   "metadata": {},
   "source": [
    "AI (Artificial Intelligence): The broader concept of machines mimicking human intelligence.\n",
    "\n",
    "ML (Machine Learning): A subset of AI focused on algorithms that can learn patterns from data.\n",
    "\n",
    "DL (Deep Learning): A subset of ML involving neural networks with multiple layers.\n",
    "\n",
    "DS (Data Science): Involves extracting insights and knowledge from structured and unstructured data, using techniques from statistics, machine learning, and other disciplines."
   ]
  },
  {
   "cell_type": "raw",
   "id": "e8593344-5a1c-4a87-ba52-d3272da827e2",
   "metadata": {},
   "source": [
    "Q5. What are the main differences between supervised, unsupervised, and semi-supervised learning?"
   ]
  },
  {
   "cell_type": "markdown",
   "id": "7830d308-da0b-49f2-8236-2416bea11400",
   "metadata": {},
   "source": [
    "Supervised Learning: Training with labeled data, predicting outcomes based on input-output mappings.\n",
    "\n",
    "Unsupervised Learning: Training without labeled data, finding patterns or structures in the data.\n",
    "\n",
    "Semi-Supervised Learning: Uses a combination of labeled and unlabeled data for training."
   ]
  },
  {
   "cell_type": "raw",
   "id": "f673c05f-40e9-4465-8d3a-41d68c42c221",
   "metadata": {},
   "source": [
    "Q6. What is train, test and validation split? Explain the importance of each term."
   ]
  },
  {
   "cell_type": "markdown",
   "id": "f5f124b7-3eb9-4119-b940-60df7a6adc10",
   "metadata": {},
   "source": [
    "Train Set: The portion of the data used for training the model.\n",
    "\n",
    "Test Set: The portion of the data used for evaluating the model's performance.\n",
    "\n",
    "Validation Set: An additional dataset used during training to fine-tune hyperparameters and avoid overfitting.\n",
    "Importance:\n",
    "\n",
    "Train Set: Teaches the model.\n",
    "\n",
    "Validation Set: Guides model selection and hyperparameter tuning.\n",
    "\n",
    "Test Set: Assesses the model's generalization to new, unseen data."
   ]
  },
  {
   "cell_type": "raw",
   "id": "bbeeeafb-4e63-4f1e-aec7-46cd1a53299a",
   "metadata": {},
   "source": [
    "Q7. How can unsupervised learning be used in anomaly detection?"
   ]
  },
  {
   "cell_type": "markdown",
   "id": "02a7ccc7-5491-4847-87a4-aae3e19d7df0",
   "metadata": {},
   "source": [
    "Unsupervised learning algorithms can identify patterns and structures in data. In anomaly detection, the algorithm learns the normal behavior of the system and flags instances that deviate significantly from this norm as anomalies."
   ]
  },
  {
   "cell_type": "raw",
   "id": "9c4a899b-bbc3-4d2a-8f73-c510e5aaf32e",
   "metadata": {},
   "source": [
    "Q8. List down some commonly used supervised learning algorithms and unsupervised learning \n",
    "algorithms."
   ]
  },
  {
   "cell_type": "markdown",
   "id": "aa678c01-cbd9-43e2-9a18-db96291b3f67",
   "metadata": {},
   "source": [
    "Supervised Learning Algorithms:\n",
    "    Linear Regression,\n",
    "    Logistic Regression,\n",
    "    Decision Trees,\n",
    "    Random Forest,\n",
    "    Support Vector Machines,\n",
    "    K-Nearest Neighbors,\n",
    "    Neural Networks (Deep Learning)\n",
    "\n",
    "Unsupervised Learning Algorithms:\n",
    "    K-Means Clustering,\n",
    "    Hierarchical Clustering,\n",
    "    Principal Component Analysis (PCA),\n",
    "    t-Distributed Stochastic Neighbor Embedding (t-SNE),\n",
    "    Apriori Algorithm (Association Rule Learning),\n",
    "    Gaussian Mixture Models (GMM),\n",
    "    Autoencoders (Deep Learning)"
   ]
  },
  {
   "cell_type": "code",
   "execution_count": null,
   "id": "924d4bae-5f09-4d35-8df4-dcd1ebfb976b",
   "metadata": {},
   "outputs": [],
   "source": []
  }
 ],
 "metadata": {
  "kernelspec": {
   "display_name": "Python 3 (ipykernel)",
   "language": "python",
   "name": "python3"
  },
  "language_info": {
   "codemirror_mode": {
    "name": "ipython",
    "version": 3
   },
   "file_extension": ".py",
   "mimetype": "text/x-python",
   "name": "python",
   "nbconvert_exporter": "python",
   "pygments_lexer": "ipython3",
   "version": "3.11.5"
  }
 },
 "nbformat": 4,
 "nbformat_minor": 5
}
