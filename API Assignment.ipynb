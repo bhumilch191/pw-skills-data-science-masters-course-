{
 "cells": [
  {
   "cell_type": "raw",
   "id": "5f9722f9",
   "metadata": {},
   "source": [
    "Q1. What is an API? Give an example, where an API is used in real life.\n",
    "\n",
    "API stands from Application Programming interfaces. API is defined as a software code that helps two different \n",
    "software’s to communicate and exchange data with each other.for example, if a program needs to open a new file window, \n",
    "it will ask the operating system to open one."
   ]
  },
  {
   "cell_type": "raw",
   "id": "7f026a4d",
   "metadata": {},
   "source": [
    "Q2. Give advantages and disadvantages of using API.\n",
    "\n",
    "Advantages:\n",
    "    >Efficiency: API produces efficient, quicker, and more reliable results than the outputs produced by human \n",
    "                beings in an organization.\n",
    "    \n",
    "    >Flexible delivery of services: API provides fast and flexible delivery of services according to developers’ requirements.\n",
    "    \n",
    "    >Integration: The best feature of API is that it allows the movement of data between various sites and \n",
    "                thus enhances the integrated user experience.\n",
    "    \n",
    "    >Automation: As API makes use of robotic computers rather than humans, it produces better and more automated results.\n",
    "    \n",
    "    >New functionality: While using API the developers find new tools and functionality for API exchanges.\n",
    "        \n",
    "Disadvantages:\n",
    "    >Cost: Developing and implementing API is costly at times and requires high maintenance and support from developers.\n",
    "    \n",
    "    >Security issues: Using API adds another layer of surface which is then prone to attacks, and hence the security \n",
    "                    risk problem is common in APIs."
   ]
  },
  {
   "cell_type": "raw",
   "id": "4c88194b",
   "metadata": {},
   "source": [
    "Q3. What is a Web API? Differentiate between API and Web API.\n",
    "\n",
    "-->A Web API is an application programming interface for the Web\n",
    "-->It can extend the functionality of the browser\n",
    "-->It can greatly simplify complex functions\n",
    "-->It can provide easy syntax to complex code\n",
    "\n",
    "Differentiate:\n",
    "    ->Web api is a collection of open source protocols and standards used for exchanging data between systems or \n",
    "    applications, whereas API is a software interface that allows two applications to interact with each other\n",
    "    without any user involvement.\n",
    "    \n",
    "    ->Web api is used for REST, SOAP, and XML-RPC for communication, while API is used for any style of communication.\n",
    "    \n",
    "    ->Web api supports only HTTP protocol, whereas API supports HTTP/HTTPS protocol.\n",
    "    \n",
    "    ->Web api supports XML, while API supports XML and JSON.\n",
    "    \n",
    "    ->All Web api are APIs, but all APIs are not web api."
   ]
  },
  {
   "cell_type": "raw",
   "id": "ade69ac8",
   "metadata": {},
   "source": [
    "Q4. Explain REST and SOAP Architecture. Mention shortcomings of SOAP.\n",
    "\n",
    "-->REST Architecture:\n",
    "    REST stands for REpresentational State Transfer and API stands for Application Program Interface. \n",
    "    REST is a software architectural style that defines the set of rules to be used for creating web services. \n",
    "    Web services which follow the REST architectural style are known as RESTful web services. It allows \n",
    "    requesting systems to access and manipulate web resources by using a uniform and predefined set of rules.\n",
    "    Interaction in REST based systems happen through Internet’s Hypertext Transfer Protocol (HTTP).\n",
    "\n",
    "->A Restful system consists of a:\n",
    "    client who requests for the resources.\n",
    "    server who has the resources.\n",
    "\n",
    "->Architectural Constraints of RESTful API:\n",
    "    Uniform Interface\n",
    "    Stateless\n",
    "    Cacheable\n",
    "    Client-Server\n",
    "    Layered System\n",
    "    Code on Demand\n",
    "\n",
    "-->SOAP Architecture:\n",
    "    Simple Object Access Protocol(SOAP) is a network protocol for exchanging structured data between nodes. \n",
    "    It uses XML format to transfer messages. It works on top of application layer protocols like HTML and SMTP \n",
    "    for notations and transmission. SOAP allows processes to communicate throughout platforms, \n",
    "    languages and operating systems, since protocols like HTTP are already installed on all platforms.\n",
    "    \n",
    "->Message formate:\n",
    "    Information about message structure and instructions on processing it.\n",
    "    Encoding instructions for application defined data types.\n",
    "    Information about Remote Procedure Calls and their responses."
   ]
  },
  {
   "cell_type": "raw",
   "id": "f6469af4",
   "metadata": {},
   "source": [
    "Q5. Differentiate between REST and SOAP.\n",
    "\n",
    "1)  SOAP is a protocol.REST is an architectural style.\n",
    "2)  SOAP stands for Simple Object Access Protocol.REST stands for Representational State Transfer.\n",
    "3)  SOAP can't use REST because it is a protocol.REST can use SOAP web services because it is a concept and can \n",
    "                                                 use any protocol like HTTP, SOAP.\n",
    "4)  SOAP uses services interfaces to expose the business logic.REST uses URI to expose business logic.\n",
    "5)  JAX-WS is the java API for SOAP web services.JAX-RS is the java API for RESTful web services.\n",
    "6)  SOAP defines standards to be strictly followed.REST does not define too much standards like SOAP.\n",
    "7)  SOAP requires more bandwidth and resource than REST.REST requires less bandwidth and resource than SOAP.\n",
    "8)  SOAP defines its own security.RESTful web services inherits security measures from the underlying transport.\n",
    "9)  SOAP permits XML data format only.REST permits different data format such as Plain text, HTML, XML, JSON etc.\n",
    "10) SOAP is less preferred than REST.REST more preferred than SOAP."
   ]
  }
 ],
 "metadata": {
  "kernelspec": {
   "display_name": "Python 3 (ipykernel)",
   "language": "python",
   "name": "python3"
  },
  "language_info": {
   "codemirror_mode": {
    "name": "ipython",
    "version": 3
   },
   "file_extension": ".py",
   "mimetype": "text/x-python",
   "name": "python",
   "nbconvert_exporter": "python",
   "pygments_lexer": "ipython3",
   "version": "3.10.5"
  }
 },
 "nbformat": 4,
 "nbformat_minor": 5
}
