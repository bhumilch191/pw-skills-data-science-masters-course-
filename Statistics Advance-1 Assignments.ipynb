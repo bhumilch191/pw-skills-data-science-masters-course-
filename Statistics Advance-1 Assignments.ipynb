{
 "cells": [
  {
   "cell_type": "markdown",
   "id": "36ef8cd2",
   "metadata": {},
   "source": [
    "### Q1. What is the Probability density function?"
   ]
  },
  {
   "cell_type": "code",
   "execution_count": 1,
   "id": "d5eebc70",
   "metadata": {},
   "outputs": [],
   "source": [
    "# > In probability theory, a probability density function (PDF), or density of an absolutely continuous \n",
    "# random variable, is a function whose value at any given sample (or point) in the sample space \n",
    "# (the set of possible values taken by the random variable) can be interpreted as providing a relative \n",
    "# likelihood that the value of the random variable would be equal to that sample. \n",
    "# > The probability density function gives the output indicating the density of a continuous random \n",
    "# variable lying between a specific range of values. If a given scenario is calculated based on numbers and \n",
    "# values, the function computes the density corresponding to the specified range."
   ]
  },
  {
   "cell_type": "markdown",
   "id": "af9589d4",
   "metadata": {},
   "source": [
    "### What are the types of Probability distribution?"
   ]
  },
  {
   "cell_type": "code",
   "execution_count": 2,
   "id": "dab60a83",
   "metadata": {},
   "outputs": [],
   "source": [
    "# There are two types of probability distribution: \n",
    "#     > Discrete probability distributions \n",
    "#     > Continuous probability distributions \n",
    "\n",
    "# Discrete probability distributions are used when the variable can only take on a finite number of values. \n",
    "# Examples include the binomial distribution, Poisson distribution, and uniform distribution.\n",
    "# Continuous probability distributions are used when the variable can take on any value within a range.\n",
    "# Examples include the normal distribution, chi-square distribution, and F-distribution."
   ]
  },
  {
   "cell_type": "markdown",
   "id": "4db51737",
   "metadata": {},
   "source": [
    "### Write a Python function to calculate the probability density function of a normal distribution with given mean and standard deviation at a given point."
   ]
  },
  {
   "cell_type": "code",
   "execution_count": 3,
   "id": "f8421b8f",
   "metadata": {},
   "outputs": [
    {
     "data": {
      "text/plain": [
       "0.31251121665255965"
      ]
     },
     "execution_count": 3,
     "metadata": {},
     "output_type": "execute_result"
    }
   ],
   "source": [
    "import numpy as np\n",
    "from scipy.stats import norm\n",
    "\n",
    "def pdf_normal_distribution(mean, std_dev, point):\n",
    "    return norm.pdf(point, mean, std_dev)\n",
    "\n",
    "data = np.linspace(1,5,10)\n",
    "mean = np.mean(data)\n",
    "std = np.std(data)\n",
    "pdf_normal_distribution(mean,std,3)"
   ]
  },
  {
   "cell_type": "markdown",
   "id": "5061c710",
   "metadata": {},
   "source": [
    "### What are the properties of Binomial distribution? Give two examples of events where binomial distribution can be applied."
   ]
  },
  {
   "cell_type": "code",
   "execution_count": 4,
   "id": "c8372470",
   "metadata": {},
   "outputs": [],
   "source": [
    "# The properties of the binomial distribution are:\n",
    "#     There are two possible outcomes: true or false, success or failure, yes or no.\n",
    "#     There is n number of independent trials or a fixed number of n times repeated trials.\n",
    "#     The probability of success or failure remains the same for each trial.\n",
    "#     Only the number of successes is recorded.\n",
    "\n",
    "# Two examples of events where binomial distribution can be applied are:\n",
    "#     Rolling a die\n",
    "#     Tossing a coin"
   ]
  },
  {
   "cell_type": "markdown",
   "id": "e5a72dfa",
   "metadata": {},
   "source": [
    "### Generate a random sample of size 1000 from a binomial distribution with probability of success 0.4 and plot a histogram of the results using matplotlib."
   ]
  },
  {
   "cell_type": "code",
   "execution_count": 5,
   "id": "c5c28c8c",
   "metadata": {},
   "outputs": [
    {
     "data": {
      "image/png": "[encoded data removed]",
      "text/plain": [
       "<Figure size 640x480 with 1 Axes>"
      ]
     },
     "metadata": {},
     "output_type": "display_data"
    }
   ],
   "source": [
    "import numpy as np\n",
    "import matplotlib.pyplot as plt\n",
    "\n",
    "n = 1000\n",
    "p = 0.4\n",
    "\n",
    "x = np.random.binomial(n, p, size=1000)\n",
    "\n",
    "plt.hist(x)\n",
    "plt.show()"
   ]
  },
  {
   "cell_type": "markdown",
   "id": "1e3eb78e",
   "metadata": {},
   "source": [
    "### Write a Python function to calculate the cumulative distribution function of a Poisson distribution with given mean at a given point."
   ]
  },
  {
   "cell_type": "code",
   "execution_count": 6,
   "id": "6940a4df",
   "metadata": {},
   "outputs": [
    {
     "data": {
      "text/plain": [
       "0.23810330555354436"
      ]
     },
     "execution_count": 6,
     "metadata": {},
     "output_type": "execute_result"
    }
   ],
   "source": [
    "from scipy.stats import poisson\n",
    "\n",
    "def poisson_cdf(mean, point):\n",
    "    return poisson.cdf(point, mean)\n",
    "\n",
    "data = np.linspace(1,3,10)\n",
    "mean = np.mean(data)\n",
    "\n",
    "poisson_cdf(4,mean)"
   ]
  },
  {
   "cell_type": "markdown",
   "id": "ba337763",
   "metadata": {},
   "source": [
    "### Q7. How Binomial distribution different from Poisson distribution?"
   ]
  },
  {
   "cell_type": "code",
   "execution_count": 7,
   "id": "0d0a39cf",
   "metadata": {},
   "outputs": [],
   "source": [
    "# > The main difference between the binomial and Poisson distributions is that the binomial distribution is used \n",
    "#   when there are a fixed number of trials and each trial has only two possible outcomes (success or failure), \n",
    "#   while the Poisson distribution is used when the number of events in a fixed interval of time or space is being counted.\n",
    "\n",
    "# > The binomial distribution requires a known number of trials and assumes that each trial is independent, \n",
    "#   while the Poisson distribution does not require a specific number of events and \n",
    "#   assumes that events occur randomly and independently"
   ]
  },
  {
   "cell_type": "markdown",
   "id": "f7e8758b",
   "metadata": {},
   "source": [
    "### Generate a random sample of size 1000 from a Poisson distribution with mean 5 and calculate the sample mean and variance."
   ]
  },
  {
   "cell_type": "code",
   "execution_count": 8,
   "id": "0dab7a74",
   "metadata": {},
   "outputs": [
    {
     "data": {
      "text/plain": [
       "(5.063, 5.3130310000000005)"
      ]
     },
     "execution_count": 8,
     "metadata": {},
     "output_type": "execute_result"
    }
   ],
   "source": [
    "import numpy as np\n",
    "\n",
    "sample = np.random.poisson(5, 1000)\n",
    "\n",
    "sample_mean = np.mean(sample)\n",
    "sample_var = np.var(sample)\n",
    "sample_mean,sample_var"
   ]
  },
  {
   "cell_type": "markdown",
   "id": "a3c4ce59",
   "metadata": {},
   "source": [
    "### How mean and variance are related in Binomial distribution and Poisson distribution?"
   ]
  },
  {
   "cell_type": "code",
   "execution_count": 9,
   "id": "1361aec0",
   "metadata": {},
   "outputs": [],
   "source": [
    "# > In a binomial distribution, the mean is equal to np, where n is the number of trials and p is the probability \n",
    "#   of success in each trial.\n",
    "#   The variance is equal to np(1-p)12.\n",
    "\n",
    "# > In a Poisson distribution, the mean and variance are both equal to λ (lambda), \n",
    "#   which is the expected number of events in a fixed interval of time or space"
   ]
  },
  {
   "cell_type": "markdown",
   "id": "999c4458",
   "metadata": {},
   "source": [
    "### Q10. In normal distribution with respect to mean position, where does the least frequent data appear?"
   ]
  },
  {
   "cell_type": "code",
   "execution_count": 10,
   "id": "48aa33b0",
   "metadata": {},
   "outputs": [],
   "source": [
    "# > In a normal distribution, the data is symmetric about the mean. \n",
    "# > This means that most of the observed data is clustered near the mean, while the data become \n",
    "#   less frequent when farther away from the mean. The least frequent data appears at the tails of the distribution"
   ]
  }
 ],
 "metadata": {
  "kernelspec": {
   "display_name": "Python 3 (ipykernel)",
   "language": "python",
   "name": "python3"
  },
  "language_info": {
   "codemirror_mode": {
    "name": "ipython",
    "version": 3
   },
   "file_extension": ".py",
   "mimetype": "text/x-python",
   "name": "python",
   "nbconvert_exporter": "python",
   "pygments_lexer": "ipython3",
   "version": "3.10.5"
  }
 },
 "nbformat": 4,
 "nbformat_minor": 5
}
