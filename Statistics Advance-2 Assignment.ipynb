{
 "cells": [
  {
   "cell_type": "markdown",
   "id": "6328a32d",
   "metadata": {},
   "source": [
    "### Q1 What are the Probability Mass Function (PMF) and Probability Density Function (PDF)? Explain with an example."
   ]
  },
  {
   "cell_type": "code",
   "execution_count": 1,
   "id": "5dfd98ae",
   "metadata": {},
   "outputs": [],
   "source": [
    "# > A Probability Mass Function (PMF) is a function that assigns a probability to each possible outcome \n",
    "#   of a discrete random variable. \n",
    "#   \n",
    "#   example: consider the experiment of rolling a fair die. \n",
    "#           The sample space is {1, 2, 3, 4, 5, 6}. The PMF assigns probability 1/6 to each of the outcomes.\n",
    "\n",
    "# > A Probability Density Function (PDF) is a function that describes the ratio of the probability mass to \n",
    "#   the interval size for a continuous random variable.\n",
    "#   A PDF must be integrated over an interval to yield a probability. \n",
    "#   \n",
    "#   example: consider the experiment of measuring the height of a randomly chosen person. \n",
    "#     The height is a continuous random variable. The PDF assigns probabilities to intervals of heights.\n",
    "#     For instance, the probability that the height is between 5 feet and 6 feet is given by the integral of\n",
    "#     the PDF over this interval"
   ]
  },
  {
   "cell_type": "markdown",
   "id": "c5766dd1",
   "metadata": {},
   "source": [
    "### Q2: What is Cumulative Density Function (CDF)? Explain with an example. Why CDF is used?\n"
   ]
  },
  {
   "cell_type": "code",
   "execution_count": 2,
   "id": "db200133",
   "metadata": {},
   "outputs": [],
   "source": [
    "# A Cumulative Density Function (CDF) is a graph that shows the cumulative distribution of a random variable.\n",
    "# The graph of the CDF is a line that starts at 0 when x is less than the lower endpoint of the support and\n",
    "# ends at 1 when x is greater than the upper endpoint of the support. \n",
    "\n",
    "# The slope of the line between the two endpoints is 1 divided by the difference between the two endpoints.\n",
    "\n",
    "# For example, suppose we roll a dice one time. The probability mass function (PMF) for this experiment is given by:\n",
    "# P(X = i) = 1/6 for i = 1, 2, 3, 4, 5, 6.\n",
    "\n",
    "# The cumulative distribution function (CDF) for this experiment is given by:\n",
    "# F(x) = P(X <= x) = {0 for x < 1; (x-1)/6 for 1 <= x < 2; (x-2)/6 for 2 <= x < 3; (x-3)/6 for 3 <= x < 4;\n",
    "#                     (x-4)/6 for 4 <= x < 5; (x-5)/6 for 5 <= x < 6; 1 for x >= 6}.\n",
    "\n",
    "# The CDF is used to determine probabilities of events that are defined in terms of ranges of values.\n",
    "\n",
    "# example: if we want to know the probability that X is less than or equal to 3, we can use the CDF:\n",
    "# P(X <= 3) = F(3) = (3-1)/6 + (3-2)/6 + (3-3)/6 = 1/2."
   ]
  },
  {
   "cell_type": "markdown",
   "id": "e232ace9",
   "metadata": {},
   "source": [
    "### Q3: What are some examples of situations where the normal distribution might be used as a model?\n",
    "#### Explain how the parameters of the normal distribution relate to the shape of the distribution."
   ]
  },
  {
   "cell_type": "code",
   "execution_count": 3,
   "id": "3bbbc8f5",
   "metadata": {},
   "outputs": [],
   "source": [
    "# > Natural Phenomena: Many natural phenomena tend to follow a normal distribution. \n",
    "#     For example, the heights of individuals in a population, the weights of objects produced in a manufacturing process,\n",
    "#     or the scores of students on a standardized test often exhibit a bell-shaped distribution.\n",
    "\n",
    "# > Measurement Errors: When measuring a physical quantity, random errors can occur, and these errors often follow a\n",
    "#     normal distribution. Therefore, the normal distribution can be used to model the distribution of\n",
    "#     measurement errors in fields such as physics, chemistry, and engineering.\n",
    "\n",
    "# > Financial Markets: In finance, stock returns and other financial indicators are often assumed to follow a normal\n",
    "#     distribution. This assumption allows for the use of various statistical techniques and models,\n",
    "#     such as the Black-Scholes option pricing model.\n",
    "\n",
    "# > Quality Control: In manufacturing processes, the properties of certain products or components often follow a normal\n",
    "#     distribution.\n",
    "#     By modeling the distribution using the normal distribution, quality control measures can be implemented to identify\n",
    "#     and address deviations from the desired specifications.\n",
    "\n",
    "# >> parameters of the normal distribution and how they relate to the shape of the distribution:\n",
    "\n",
    "# > Mean (μ): The mean determines the central tendency or the average value of the distribution. \n",
    "#     It corresponds to the peak or center of the bell curve. Shifting the mean to the right or left\n",
    "#     will shift the entire distribution along the horizontal axis.\n",
    "\n",
    "# > Standard Deviation (σ): The standard deviation measures the spread or variability of the distribution.\n",
    "#     A smaller standard deviation results in a narrower and taller bell curve, indicating less dispersion of \n",
    "#     data around the mean. Conversely, a larger standard deviation leads to a wider and flatter curve,\n",
    "#     indicating greater dispersion.\n",
    "\n",
    "# > Variance (σ^2): The variance is the square of the standard deviation and represents the average squared\n",
    "#     deviation from the mean. Like the standard deviation, it quantifies the dispersion of data.\n",
    "#     A smaller variance implies less variability, while a larger variance indicates greater variability."
   ]
  },
  {
   "cell_type": "markdown",
   "id": "42c09e68",
   "metadata": {},
   "source": [
    "### Q4: Explain the importance of Normal Distribution. Give a few real-life examples of Normal Distribution."
   ]
  },
  {
   "cell_type": "code",
   "execution_count": 4,
   "id": "3a68a4cb",
   "metadata": {},
   "outputs": [],
   "source": [
    "# > The normal distribution is important because it is a very common distribution that many variables follow in real life.\n",
    "# > It is also important because it has some very useful properties that make it easy to work with mathematically.\n",
    "# > For example, the normal distribution is completely determined by its mean and standard deviation, which makes it\n",
    "#   easy to compare different distributions.\n",
    "\n",
    "# > Some real-life examples of variables that follow a normal distribution include height, weight, blood pressure, \n",
    "#   IQ scores, and test scores . The normal distribution is also used in many statistical tests and models because of\n",
    "#   its useful properties"
   ]
  },
  {
   "cell_type": "markdown",
   "id": "7c9dafd6",
   "metadata": {},
   "source": [
    "### Q5: What is Bernaulli Distribution? Give an Example. What is the difference between Bernoulli Distribution and Binomial Distribution?"
   ]
  },
  {
   "cell_type": "code",
   "execution_count": 5,
   "id": "b0f7fd2a",
   "metadata": {},
   "outputs": [],
   "source": [
    "# > The Bernoulli distribution is a probability distribution that models situations with two possible outcomes.\n",
    "# > Examples of Bernoulli distribution include a coin toss that results in either heads or tails, a newborn child\n",
    "#   that is either male or female, a tennis match that is either won or lost, a medical treatment that is either \n",
    "#   successful or unsuccessful, and a dice roll that results in either a double six or not1.\n",
    "\n",
    "# > The binomial distribution is used to model the number of successes in a fixed number of independent Bernoulli trials.\n",
    "#   The main difference between the two distributions is that the Bernoulli distribution models one trial with two \n",
    "#   possible outcomes(success or failure),while the binomial distribution models multiple trials with two possible outcomes2.\n",
    "\n",
    "# > For example, if you flip a coin once, you are performing one Bernoulli trial. \n",
    "#   If you flip it 10 times and count the number of heads, you are performing 10 Bernoulli trials and counting\n",
    "#   the number of successes. This count follows a binomial distribution3."
   ]
  },
  {
   "cell_type": "markdown",
   "id": "bacbcf74",
   "metadata": {},
   "source": [
    "### Q6. Consider a dataset with a mean of 50 and a standard deviation of 10. If we assume that the dataset is normally distributed, what is the probability that a randomly selected observation will be greater than 60? Use the appropriate formula and show your calculations."
   ]
  },
  {
   "cell_type": "code",
   "execution_count": 6,
   "id": "ca4e5440",
   "metadata": {},
   "outputs": [],
   "source": [
    "# The formula for the standard normal distribution is:\n",
    "\n",
    "# z = (x - μ) / σ\n",
    "\n",
    "# where z is the z-score, x is the value you are interested in, μ is the mean of the distribution,\n",
    "# and σ is the standard deviation of the distribution.\n",
    "\n",
    "# x = 60 μ = 50 σ = 10\n",
    "\n",
    "# z = (60 - 50) / 10 = 1\n",
    "\n",
    "# We can then use a standard normal distribution table or calculator to find the probability that a z-score of 1\n",
    "# or greater occurs.\n",
    "\n",
    "# Using a standard normal distribution table, we find that the probability of a z-score of 1 or greater is \n",
    "# approximately 0.1587."
   ]
  },
  {
   "cell_type": "markdown",
   "id": "dadb282b",
   "metadata": {},
   "source": [
    "### Q7: Explain uniform Distribution with an example."
   ]
  },
  {
   "cell_type": "code",
   "execution_count": 7,
   "id": "1d6b6731",
   "metadata": {},
   "outputs": [],
   "source": [
    "# > The uniform distribution is a probability distribution that models situations where all outcomes are equally likely. \n",
    "#   In other words, the probability of any given outcome is the same as the probability of any other outcome.\n",
    "\n",
    "# > An example of a uniform distribution is rolling a fair six-sided die. Each of the six possible outcomes \n",
    "#   (1, 2, 3, 4, 5, or 6) is equally likely to occur, so the probability of rolling any given number is 1/6.\n",
    " \n",
    "# > Another example of a uniform distribution is selecting a random number between 1 and 10. Each of the ten possible \n",
    "#   outcomes (1, 2, 3, 4, 5, 6, 7, 8, 9, or 10) is equally likely to occur, so the probability of selecting any given\n",
    "#   number is 1/10."
   ]
  },
  {
   "cell_type": "markdown",
   "id": "09988630",
   "metadata": {},
   "source": [
    "### Q8: What is the z score? State the importance of the z score."
   ]
  },
  {
   "cell_type": "code",
   "execution_count": 8,
   "id": "f7200039",
   "metadata": {},
   "outputs": [],
   "source": [
    "# > The z-score is a measure of how many standard deviations a data point is from the mean of a distribution.\n",
    "#   It is calculated by subtracting the mean from the data point and then dividing by the standard deviation.\n",
    "\n",
    "# > The importance of the z-score lies in its ability to standardize data from different distributions so \n",
    "#   that they can be compared. By converting raw scores to standardized scores, statisticians can compare \n",
    "#   scores from different data sets and determine whether a score falls within the norm for a given data \n",
    "#   set or deviates from it.\n",
    "\n",
    "# > The z-score also allows researchers to calculate the probability of a score occurring within a standard \n",
    "#   normal distribution. Standardizing the raw data by transforming them into z-scores provides several \n",
    "#   benefits such as understanding where a data point fits into a distribution, comparing observations \n",
    "#   between dissimilar variables, identifying outliers, and calculating probabilities and percentiles using \n",
    "#   the standard normal distribution."
   ]
  },
  {
   "cell_type": "markdown",
   "id": "7d6c55c6",
   "metadata": {},
   "source": [
    "### Q9: What is Central Limit Theorem? State the significance of the Central Limit Theorem."
   ]
  },
  {
   "cell_type": "code",
   "execution_count": 9,
   "id": "c635279d",
   "metadata": {},
   "outputs": [],
   "source": [
    "# > The Central Limit Theorem (CLT) is a statistical theory that states that the distribution of sample means approaches \n",
    "#   a normal distribution as the sample size gets larger, regardless of the shape of the population distribution.\n",
    "# > In other words, if you take many random samples from a population and calculate the mean of each sample, the\n",
    "#   distribution of those sample means will be approximately normal.\n",
    "\n",
    "# > The significance of the Central Limit Theorem is that it allows us to make inferences about a population based\n",
    "#   on a sample. For example, if we want to know the average height of all people in a city, we could take a random sample\n",
    "#   of people and calculate their average height. According to the CLT, the distribution of those sample means will be\n",
    "#   approximately normal, which allows us to make inferences about the population mean.\n",
    "\n",
    "# > The CLT is also important because it forms the basis for many statistical tests and models. \n",
    "#   For example, it is used in hypothesis testing, confidence intervals, and linear regression."
   ]
  },
  {
   "cell_type": "markdown",
   "id": "325c069d",
   "metadata": {},
   "source": [
    "### Q10: State the assumptions of the Central Limit Theorem."
   ]
  },
  {
   "cell_type": "code",
   "execution_count": null,
   "id": "936a4739",
   "metadata": {},
   "outputs": [],
   "source": [
    "# The Central Limit Theorem (CLT) has several assumptions:\n",
    "\n",
    "# 1. The sample size is large enough. The general rule of thumb is that the sample size should be at least 30.\n",
    "# 2. The samples are independent. Each observation in the sample is independent of all other observations.\n",
    "# 3. The population distribution is not extremely skewed. If the population distribution is extremely skewed, \n",
    "#    the sample size may need to be larger than 30.\n",
    "# 4. The population has a finite variance. If the population has an infinite variance, the CLT may not hold.\n",
    "\n",
    "# > If these assumptions are met, then the CLT can be used to make inferences about a population based on a sample."
   ]
  }
 ],
 "metadata": {
  "kernelspec": {
   "display_name": "Python 3 (ipykernel)",
   "language": "python",
   "name": "python3"
  },
  "language_info": {
   "codemirror_mode": {
    "name": "ipython",
    "version": 3
   },
   "file_extension": ".py",
   "mimetype": "text/x-python",
   "name": "python",
   "nbconvert_exporter": "python",
   "pygments_lexer": "ipython3",
   "version": "3.10.5"
  }
 },
 "nbformat": 4,
 "nbformat_minor": 5
}
