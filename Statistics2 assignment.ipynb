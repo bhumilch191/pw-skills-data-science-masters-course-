{
 "cells": [
  {
   "cell_type": "markdown",
   "id": "6d8d063a-e687-46f9-8245-b0f3c40a5429",
   "metadata": {},
   "source": [
    "#### Q1. What are the three measures of central tendency?"
   ]
  },
  {
   "cell_type": "code",
   "execution_count": null,
   "id": "b7792ea7-acb0-49da-b2b8-6fae70336bea",
   "metadata": {},
   "outputs": [],
   "source": [
    "# Mean, Median, Mode"
   ]
  },
  {
   "cell_type": "markdown",
   "id": "5aba4c0e-0aef-4b1b-b8c6-4895314f3166",
   "metadata": {},
   "source": [
    "#### Q2. What is the difference between the mean, median, and mode? How are they used to measure the central tendency of a dataset?"
   ]
  },
  {
   "cell_type": "code",
   "execution_count": null,
   "id": "77542e6d-8980-4a67-bafe-c77522840c81",
   "metadata": {},
   "outputs": [],
   "source": [
    "# Mean: The mean, also known as the average, is calculated by summing up all the values in a dataset and then dividing the sum by the total number of values. \n",
    "# mean = (sum of all values) / (total number of values)\n",
    "\n",
    "# Example: consider the dataset {1, 2, 3, 4, 5}. The sum of all values is 1 + 2 + 3 + 4 + 5 = 15. \n",
    "#          Dividing this sum by the total number of values (5 in this case) gives us the mean: 15 / 5 = 3.\n",
    "\n",
    "# Median: The median is the middle value of a dataset when it is sorted in ascending or descending order. \n",
    "#         It is less affected by extreme values or outliers compared to the mean. \n",
    "# Example: let's consider the dataset {1, 2, 3, 4, 5}. When sorted in ascending order, the dataset becomes {1, 2, 3, 4, 5}. \n",
    "#          Since the dataset has an odd number of values, the middle value is the median, which is 3.\n",
    "\n",
    "# Mode: The mode represents the value(s) that occur most frequently in a dataset. \n",
    "#       It is the only measure of central tendency that can handle categorical or qualitative data. \n",
    "# Example: let's consider the dataset {1, 2, 3, 3, 4, 5}. In this case, the mode is 3 because it appears twice, more frequently than any other value.\n",
    "\n",
    "# These measures are used to understand the central tendency of a dataset in different contexts. \n",
    "# The mean is commonly used when the data is numerical and follows a symmetric distribution. \n",
    "# The median is often used when the data contains outliers or is not normally distributed. \n",
    "# The mode is useful for identifying the most common category or value in a dataset, especially when working with categorical or qualitative data."
   ]
  },
  {
   "cell_type": "markdown",
   "id": "0ee6daaf-8457-45a2-be29-edea6b9ef3eb",
   "metadata": {},
   "source": [
    "#### Q3. Measure the three measures of central tendency for the given height data:"
   ]
  },
  {
   "cell_type": "code",
   "execution_count": 4,
   "id": "cd908f63-818c-404a-88aa-ca3d047b992e",
   "metadata": {},
   "outputs": [],
   "source": [
    "import numpy as np\n",
    "x = [178,177,176,177,178.2,178,175,179,180,175,178.9,176.2,177,172.5,178,176.5]"
   ]
  },
  {
   "cell_type": "code",
   "execution_count": 5,
   "id": "323dbcc2-8c4c-4844-b017-f58bff559e8a",
   "metadata": {},
   "outputs": [
    {
     "data": {
      "text/plain": [
       "177.01875"
      ]
     },
     "execution_count": 5,
     "metadata": {},
     "output_type": "execute_result"
    }
   ],
   "source": [
    "np.mean(x)"
   ]
  },
  {
   "cell_type": "code",
   "execution_count": 6,
   "id": "984379d1-a8d8-4c04-a5e7-1490fa0f9215",
   "metadata": {},
   "outputs": [
    {
     "data": {
      "text/plain": [
       "177.0"
      ]
     },
     "execution_count": 6,
     "metadata": {},
     "output_type": "execute_result"
    }
   ],
   "source": [
    "np.median(x)"
   ]
  },
  {
   "cell_type": "code",
   "execution_count": 10,
   "id": "408580a0-ea83-4189-9d8c-0391a954d50a",
   "metadata": {},
   "outputs": [
    {
     "name": "stderr",
     "output_type": "stream",
     "text": [
      "/tmp/ipykernel_77/3269743869.py:2: FutureWarning: Unlike other reduction functions (e.g. `skew`, `kurtosis`), the default behavior of `mode` typically preserves the axis it acts along. In SciPy 1.11.0, this behavior will change: the default value of `keepdims` will become False, the `axis` over which the statistic is taken will be eliminated, and the value None will no longer be accepted. Set `keepdims` to True or False to avoid this warning.\n",
      "  stats.mode(x)\n"
     ]
    },
    {
     "data": {
      "text/plain": [
       "ModeResult(mode=array([177.]), count=array([3]))"
      ]
     },
     "execution_count": 10,
     "metadata": {},
     "output_type": "execute_result"
    }
   ],
   "source": [
    "from scipy import stats\n",
    "stats.mode(x)"
   ]
  },
  {
   "cell_type": "markdown",
   "id": "ec88844f-9706-4875-85db-ea801f45e4d8",
   "metadata": {},
   "source": [
    "#### Q4. Find the standard deviation for the given data:\n",
    "[178,177,176,177,178.2,178,175,179,180,175,178.9,176.2,177,172.5,178,176.5]"
   ]
  },
  {
   "cell_type": "code",
   "execution_count": 11,
   "id": "10f9201b-fa11-4b0f-8b4c-c50a485dcff6",
   "metadata": {},
   "outputs": [],
   "source": [
    "x = [178,177,176,177,178.2,178,175,179,180,175,178.9,176.2,177,172.5,178,176.5]"
   ]
  },
  {
   "cell_type": "code",
   "execution_count": 12,
   "id": "19b8addb-ff8c-43c0-ba0e-af26938e6e4e",
   "metadata": {},
   "outputs": [
    {
     "data": {
      "text/plain": [
       "1.7885814036548633"
      ]
     },
     "execution_count": 12,
     "metadata": {},
     "output_type": "execute_result"
    }
   ],
   "source": [
    "np.std(x)"
   ]
  },
  {
   "cell_type": "markdown",
   "id": "70d59a38-a239-4194-8423-1bf0de392852",
   "metadata": {},
   "source": [
    "#### Q5. How are measures of dispersion such as range, variance, and standard deviation used to describe the spread of a dataset? Provide an example."
   ]
  },
  {
   "cell_type": "code",
   "execution_count": null,
   "id": "91c06344-80ba-4f06-a41d-b2079fab323e",
   "metadata": {},
   "outputs": [],
   "source": [
    "# Measures of dispersion, such as range, variance, and standard deviation, provide information about the spread or variability of a dataset. \n",
    "\n",
    "# Range: The range is the simplest measure of dispersion and represents the difference between the maximum and minimum values in a dataset. \n",
    "#        It gives an idea of how spread out the data is from the lowest value to the highest value. \n",
    "\n",
    "#     Example: consider the dataset {10, 15, 20, 25, 30}. The maximum value is 30, and the minimum value is 10. Thus, the range is 30 - 10 = 20.\n",
    "\n",
    "# Variance: The variance measures the average squared deviation from the mean. \n",
    "#             It provides a more comprehensive understanding of how the data points are spread out.\n",
    "\n",
    "# variance = sum of ((value - mean) squared) / (total number of values)\n",
    "\n",
    "#     Example: let's consider the dataset {1, 2, 3, 4, 5}. We have already determined that the mean is 3. \n",
    "#     The squared differences from the mean for each value are: (1 - 3)^2, (2 - 3)^2, (3 - 3)^2, (4 - 3)^2, and (5 - 3)^2. \n",
    "#     Calculating these squared differences and averaging them gives us the variance.\n",
    "\n",
    "# Standard Deviation: The standard deviation is the square root of the variance. \n",
    "#                     It provides a measure of dispersion that is in the same unit as the original data. \n",
    "#     Example: let's consider the same dataset {1, 2, 3, 4, 5} with a variance of 2. The standard deviation is the square root of the variance, which is √2"
   ]
  },
  {
   "cell_type": "markdown",
   "id": "c293af41-2904-4015-98ab-437de804854a",
   "metadata": {},
   "source": [
    "#### Q6. What is a Venn diagram?"
   ]
  },
  {
   "cell_type": "code",
   "execution_count": null,
   "id": "ff4f7ee3-341f-4db1-8699-918ae118f19b",
   "metadata": {},
   "outputs": [],
   "source": [
    "# --> Venn diagrams are useful for visually organizing and understanding the relationships between different groups or categories. \n",
    "# They can aid in identifying commonalities, differences, and overlaps, providing a clear representation of set operations such\n",
    "# as union, intersection, and complement. \n",
    "# --> By using different colors or labels, Venn diagrams can be customized to represent complex relationships or to compare multiple sets simultaneously."
   ]
  },
  {
   "cell_type": "markdown",
   "id": "58395df0-d974-4478-820b-f4589eae3591",
   "metadata": {},
   "source": [
    "#### Q7. For the two given sets A = (2,3,4,5,6,7) & B = (0,2,6,8,10). Find:  \n",
    "(i) A intersect B\n",
    "(ii) A ⋃ B"
   ]
  },
  {
   "cell_type": "code",
   "execution_count": null,
   "id": "0172fbb2-9dbc-4298-9dc2-8b58e270744e",
   "metadata": {},
   "outputs": [],
   "source": [
    "# A intersect B : {2,6}\n",
    "# A ⋃ B: {0,2,3,4,5,6,7,8,10}"
   ]
  },
  {
   "cell_type": "markdown",
   "id": "030f9c84-bdf9-4f70-95cd-e84525875eac",
   "metadata": {},
   "source": [
    "#### Q8. What do you understand about skewness in data?"
   ]
  },
  {
   "cell_type": "code",
   "execution_count": null,
   "id": "24aec0a0-805b-4ed9-8eea-19e013540071",
   "metadata": {},
   "outputs": [],
   "source": [
    "# --> Understanding skewness is important because it can provide insights into the behavior of data. \n",
    "# --> Skewed data can impact the interpretation of statistical analyses and may require different modeling approaches or data transformations. \n",
    "# --> Example: positively skewed data may need log transformations to normalize the distribution, while negatively skewed data may require other adjustments.\n",
    "# --> Analyzing skewness allows researchers, statisticians, and data analysts to better understand the shape of data distributions, \n",
    "#     identify potential outliers or unusual patterns, and make informed decisions when selecting appropriate statistical techniques for data analysis."
   ]
  },
  {
   "cell_type": "markdown",
   "id": "e7248420-c890-451e-b07e-a3dbb53a2eda",
   "metadata": {},
   "source": [
    "#### Q9. If a data is right skewed then what will be the position of median with respect to mean?"
   ]
  },
  {
   "cell_type": "code",
   "execution_count": null,
   "id": "b233717f-bc25-44d9-aaa0-51a0a8ca13ce",
   "metadata": {},
   "outputs": [],
   "source": [
    "# > Positive Skewness (Right Skewness): A distribution with positive skewness has a tail that extends towards the right side. \n",
    "#     The majority of the data tends to cluster on the left side of the distribution, and the right tail is longer. \n",
    "#     This indicates that there are more extreme values on the right side of the distribution. \n",
    "#     The mean of a positively skewed distribution is typically greater than the median."
   ]
  },
  {
   "cell_type": "markdown",
   "id": "1a66b123-e8ed-4757-893f-b45a6be776e9",
   "metadata": {},
   "source": [
    "#### Q10. Explain the difference between covariance and correlation. How are these measures used in statistical analysis?"
   ]
  },
  {
   "cell_type": "code",
   "execution_count": null,
   "id": "eb3b1932-0f6a-4bcb-a785-999cfe8d14d1",
   "metadata": {},
   "outputs": [],
   "source": [
    "# Differences :\n",
    "\n",
    "# Scale: Covariance is not standardized and depends on the scale of the variables, while correlation is a standardized measure that is not affected by the scale.\n",
    "\n",
    "# Interpretation: Covariance values alone are difficult to interpret, as they depend on the units of the variables. \n",
    "#         In contrast, correlation coefficients have a clear interpretation. \n",
    "#         A correlation coefficient of 1 or -1 indicates a perfect linear relationship, while a coefficient close to 0 suggests a weak or no linear relationship.\n",
    "\n",
    "# Range: Covariance has no specific range, while correlation coefficients always range between -1 and 1.\n"
   ]
  },
  {
   "cell_type": "markdown",
   "id": "20d32576-27a4-40a0-8b5d-51de551365dc",
   "metadata": {},
   "source": [
    "#### Q11. What is the formula for calculating the sample mean? Provide an example calculation for a dataset."
   ]
  },
  {
   "cell_type": "code",
   "execution_count": null,
   "id": "c17d9a19-a43c-45fa-8403-1990db5c92f3",
   "metadata": {},
   "outputs": [],
   "source": [
    "# x̄ = (sum of all data points) / (number of data points)\n",
    "\n",
    "# Example:\n",
    "# --> x = {165, 170, 172, 168, 175}\n",
    "\n",
    "# --> To find the sample mean, we add up all the data points: 165 + 170 + 172 + 168 + 175 = 850.\n",
    "\n",
    "# --> there are 5 data points in the dataset, we divide the sum by 5:\n",
    "\n",
    "# --> x̄ = 850 / 5 = 170.\n",
    "# --> sample mean is 170"
   ]
  },
  {
   "cell_type": "markdown",
   "id": "80043079-25ae-4e47-a78a-710e0b632850",
   "metadata": {},
   "source": [
    "#### Q12. For a normal distribution data what is the relationship between its measure of central tendency?"
   ]
  },
  {
   "cell_type": "code",
   "execution_count": null,
   "id": "964f647a-1d04-402c-a143-d993070d3ce7",
   "metadata": {},
   "outputs": [],
   "source": [
    "# --> Mean: In a normal distribution, the mean is located at the center of the distribution. \n",
    "#         It coincides with the location of the peak or highest point of the symmetric bell-shaped curve. \n",
    "#         The mean is equal to the median and the mode in a perfectly normal distribution.\n",
    "\n",
    "# --> Median: The median in a normal distribution is also located at the center of the distribution, exactly where the mean is. \n",
    "#         As a symmetric distribution, the median divides the dataset into two equal halves. \n",
    "#         Half of the data points are smaller than the median, and half are larger. \n",
    "#         Therefore, in a normal distribution, the median is equal to the mean.\n",
    "\n",
    "# --> Mode: In a perfectly normal distribution, the mode is also equal to the mean and median. \n",
    "#         Every value in the distribution occurs with the same frequency, resulting in a single peak at the center. \n",
    "#         This characteristic of the normal distribution makes it unimodal.\n",
    "\n",
    "# --> For a normal distribution, the mean, median, and mode are all equal and located at the center of the distribution. \n",
    "# --> This equality and alignment are due to the symmetrical nature of the normal distribution. \n",
    "# --> However, it's important to note that in real-world data, deviations from perfect normality can lead to slight differences\n",
    "#     between the measures of central tendency, but they generally remain close to one another."
   ]
  },
  {
   "cell_type": "markdown",
   "id": "be7c7dfc-138d-4595-b3d7-671dd9adcb0d",
   "metadata": {},
   "source": [
    "#### Q13. How is covariance different from correlation?"
   ]
  },
  {
   "cell_type": "code",
   "execution_count": null,
   "id": "3c5ed000-b656-4b5c-88e3-76bea99f2fc0",
   "metadata": {},
   "outputs": [],
   "source": [
    "# > Covariance and correlation are both measures used to quantify the relationship between two variables. \n",
    "# > While they are related, they have distinct characteristics and interpretations.\n",
    "# > Here are the key differences between covariance and correlation:\n",
    "\n",
    "# Scale:\n",
    "# > Covariance is not standardized and depends on the units of the variables being measured. \n",
    "# > The magnitude of covariance is influenced by the scales of the variables. \n",
    "# > Consequently, it can be difficult to compare covariance values across different datasets or\n",
    "#     variables with different units of measurement.\n",
    "# > Correlation, on the other hand, is a standardized measure that ranges from -1 to 1.\n",
    "# > It is not influenced by the scale of the variables.\n",
    "# > Correlation coefficients provide a consistent and comparable measure of the strength and\n",
    "#     direction of the relationship between variables, regardless of their units of measurement.\n",
    "\n",
    "# Interpretation:\n",
    "# > Covariance values alone are challenging to interpret since they depend on the units of the\n",
    "#     variables being measured.\n",
    "# > Positive covariance indicates a positive relationship between variables, \n",
    "#     while negative covariance indicates a negative relationship. \n",
    "# > However, the magnitude of the covariance does not provide a clear indication of the strength\n",
    "#     of the relationship.\n",
    "# > Correlation coefficients, on the other hand, have a clear interpretation. \n",
    "# > A correlation coefficient of 1 or -1 indicates a perfect linear relationship, \n",
    "#     while a coefficient close to 0 suggests a weak or no linear relationship. \n",
    "# >The sign of the correlation coefficient indicates the direction of the relationship \n",
    "#     (positive or negative), while the magnitude provides information about the strength of the relationship.\n",
    "\n",
    "# Standardization:\n",
    "# > Covariance is not standardized, and its values can range from negative infinity to positive infinity,\n",
    "#     depending on the data. \n",
    "# > This makes it challenging to compare covariances between different datasets or draw general \n",
    "#     conclusions about the strength of the relationship"
   ]
  },
  {
   "cell_type": "markdown",
   "id": "4d9a6f3d-c691-4e02-af5c-cb3494233501",
   "metadata": {},
   "source": [
    "#### Q14. How do outliers affect measures of central tendency and dispersion? Provide an example."
   ]
  },
  {
   "cell_type": "code",
   "execution_count": null,
   "id": "09139666-ea2e-46b9-afc2-524078a2c050",
   "metadata": {},
   "outputs": [],
   "source": [
    "# Measures of Central Tendency:\n",
    "\n",
    "# > Mean: Outliers can have a considerable impact on the mean. \n",
    "#     Since the mean is sensitive to extreme values, the presence of outliers can pull the mean towards them. \n",
    "#     A single outlier with a large value can greatly increase or decrease the mean, depending on its \n",
    "#     direction relative to the other data points.\n",
    "\n",
    "# > Median: The median is generally more robust to outliers compared to the mean. \n",
    "#     Outliers have minimal influence on the median since it represents the middle value when the data is sorted. \n",
    "#     As long as the outlier is not among the middle values, it does not affect the median significantly.\n",
    "\n",
    "# > Mode: Outliers do not directly affect the mode since it represents the most frequently occurring value(s) in the dataset. \n",
    "#     However, if an outlier appears frequently, it can introduce a new mode or impact the existing modes.\n",
    "\n",
    "# Measures of Dispersion:\n",
    "\n",
    "# > Range: Outliers can substantially affect the range. \n",
    "#     Since the range is the difference between the maximum and minimum values in a dataset, \n",
    "#     if an outlier is an extreme value, it can significantly increase or decrease the range.\n",
    "\n",
    "# > Variance and Standard Deviation: Outliers have a pronounced effect on both variance and standard deviation.\n",
    "#     The squared differences from the mean, which are used in the calculation of variance and standard deviation, \n",
    "#     are heavily influenced by outliers. \n",
    "#     Outliers with large deviations from the mean can inflate these measures, resulting in larger values.\n",
    "\n",
    "# Example:\n",
    "# Let's consider a dataset representing the ages of a group of people: {20, 25, 30, 35, 40, 100}. \n",
    "# In this dataset, 100 is an outlier since it deviates significantly from the other values."
   ]
  }
 ],
 "metadata": {
  "kernelspec": {
   "display_name": "Python 3 (ipykernel)",
   "language": "python",
   "name": "python3"
  },
  "language_info": {
   "codemirror_mode": {
    "name": "ipython",
    "version": 3
   },
   "file_extension": ".py",
   "mimetype": "text/x-python",
   "name": "python",
   "nbconvert_exporter": "python",
   "pygments_lexer": "ipython3",
   "version": "3.10.8"
  }
 },
 "nbformat": 4,
 "nbformat_minor": 5
}
