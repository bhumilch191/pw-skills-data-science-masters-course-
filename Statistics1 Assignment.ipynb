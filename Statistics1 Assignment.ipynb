{
 "cells": [
  {
   "cell_type": "markdown",
   "id": "ac562542-16f0-44e1-8b8f-b48121fd9d89",
   "metadata": {},
   "source": [
    "#### Q1. What is Statistics?"
   ]
  },
  {
   "cell_type": "code",
   "execution_count": 1,
   "id": "04ae749e-1278-469d-8590-6190eb7ecf75",
   "metadata": {},
   "outputs": [],
   "source": [
    "# Statistics is science of collecting, organizing and analyzing of data.\n",
    "# These help us to decision making process."
   ]
  },
  {
   "cell_type": "markdown",
   "id": "d1125ded-7087-4ff2-9f76-294d17166e94",
   "metadata": {},
   "source": [
    "#### Q2. Define the different types of statistics and give an example of when each type might be used."
   ]
  },
  {
   "cell_type": "code",
   "execution_count": null,
   "id": "4920ba57-2dfe-4e0a-a088-4769d23f81e8",
   "metadata": {},
   "outputs": [],
   "source": [
    "# Types of stastics: \n",
    "#     1> Descriptive Stastics:\n",
    "#         It consists of organising and summarizing data.\n",
    "#         a> Measure of central tendency:\n",
    "#             it include mean,median,mode\n",
    "#         b> Measure of Dispersion:\n",
    "#             it include variance and standerd diviation.\n",
    "#         c> Difference types of distribution of data:\n",
    "#             Example: Histogram,pmf(Probeblyty mass function)\n",
    "#     Example: Average height of students in entire classroom.\n",
    "#     2> Infrantial Stastics:\n",
    "#         It consist of using data you have measured for conclusion.\n",
    "#         This type of statistics based on population and sample data.\n",
    "#         Population data is huge amount of dataset.\n",
    "#         Sample ddata is some part of dataset.\n",
    "#         This type of data measure usig these technique:\n",
    "#             1. Z-Test\n",
    "#             2. T-Test\n",
    "#             3. CAI SQUARE\n",
    "#     Example: Average height of the student in classroom similae to what you except\n",
    "#              from the entire collage."
   ]
  },
  {
   "cell_type": "markdown",
   "id": "747f5afe-69b6-4d92-870a-74cf3aca0cbe",
   "metadata": {},
   "source": [
    "#### Q3. What are the different types of data and how do they differ from each other? Provide an example of each type of data."
   ]
  },
  {
   "cell_type": "code",
   "execution_count": null,
   "id": "f4ad7696-6561-413c-a14a-43a6dd407cd8",
   "metadata": {},
   "outputs": [],
   "source": [
    "# Types of data:\n",
    "#     1> Quentitative: In include all numarical value.In which we peform arithmatic operations.\n",
    "#         a> Discrate: It consist of whole number.\n",
    "#             Ex: 1,2,30,etc.\n",
    "#                 no. of students, bank account, houses in city\n",
    "#         b> Continuous: It consist of any number.\n",
    "#             Ex: 1,2,3.45,45.3,etc.\n",
    "#                  weight,height,Temperature,speed,etc.\n",
    "#     2> Qualitative: It consist of categorical data.\n",
    "#         a> Nominal: It include unranked data such as gender,blood group.\n",
    "#         b> Ordinal: It include Ranked data such as customer feedback best, good, bad."
   ]
  },
  {
   "cell_type": "markdown",
   "id": "fc0f2dc4-ae10-41fc-a512-c20f31679089",
   "metadata": {},
   "source": [
    "#### Q4. Categorise the following datasets with respect to quantitative and qualitative data types:"
   ]
  },
  {
   "cell_type": "code",
   "execution_count": null,
   "id": "9b842f54-0c6a-4721-a7c5-a248887e089a",
   "metadata": {},
   "outputs": [],
   "source": [
    "# (i) Grading in exam: A+, A, B+, B, C+, C, D, E ----> Qualitative\n",
    "# (ii) Colour of mangoes: yellow, green, orange, red ----> Qualitative\n",
    "# (iii) Height data of a class: [178.9, 179, 179.5, 176, 177.2, 178.3, 175.8,...] ----> Quantitative\n",
    "# (iv) Number of mangoes exported by a farm: [500, 600, 478, 672, ...] ----> Quantitative"
   ]
  },
  {
   "cell_type": "markdown",
   "id": "cb26de0e-8936-4a4f-8019-d735572fd5b2",
   "metadata": {},
   "source": [
    "#### Q5. Explain the concept of levels of measurement and give an example of a variable for each level."
   ]
  },
  {
   "cell_type": "code",
   "execution_count": null,
   "id": "fdc405af-d9ca-4e4a-a3a1-5652cf9be611",
   "metadata": {},
   "outputs": [],
   "source": [
    "# 1> Nominal Scale data:\n",
    "#     > It consist of Qualititative or categorical data.\n",
    "#     > Here, order or ranke does not matter.\n",
    "#      Ex: Gender, colors, etc.\n",
    "    \n",
    "# 2> Ordinal Sccal Data:\n",
    "#     > Rankong is important.\n",
    "#     > Difference can't be measured.\n",
    "#      Ex: Food test are Best,Good and Bad.\n",
    "#          Winner of race first, second, third.\n",
    "# 3> Interval Scale Data:\n",
    "#     > Order is important.\n",
    "#     > Differences can be measured.\n",
    "#     > Ratio can't be measured.\n",
    "#     > No '0' starting point.\n",
    "#      Ex: Temperature such as 30F,40F,90F.\n",
    "# 4> Ratio Scale Data:\n",
    "#     > Order is important.\n",
    "#     > Differences can be measured.\n",
    "#     > Ratio can't be measured.\n",
    "#     > No '0' starting point."
   ]
  },
  {
   "cell_type": "markdown",
   "id": "015e8eab-bd07-4af0-9ae3-f1fa96e024b0",
   "metadata": {},
   "source": [
    "#### Q6. Why is it important to understand the level of measurement when analyzing data? Provide an example to illustrate your answer."
   ]
  },
  {
   "cell_type": "code",
   "execution_count": null,
   "id": "c844782b-a17b-4c77-aa0f-fb990cbc8a1e",
   "metadata": {},
   "outputs": [],
   "source": [
    "# -> when analyzing data because it determines the appropriate statistical techniques and operations\n",
    "#     that can be applied to the data. \n",
    "# -> The level of measurement indicates the nature and properties of the variables being analyzed, \n",
    "#     which affects the types of conclusions and inferences that can be drawn from the data.\n",
    "# -> By understanding the level of measurement, analysts can choose the appropriate statistical \n",
    "#     methods to derive meaningful insights from the data. \n",
    "# -> Using an incorrect analysis technique based on an  incorrect level of measurement can lead to\n",
    "#     erroneous conclusions or interpretations"
   ]
  },
  {
   "cell_type": "markdown",
   "id": "ecaaa517-b437-48f7-a1d8-0b7b4277ce7e",
   "metadata": {},
   "source": [
    "#### Q7. How nominal data type is different from ordinal data type."
   ]
  },
  {
   "cell_type": "code",
   "execution_count": null,
   "id": "909420a4-5183-402a-81ec-151e7b84ff76",
   "metadata": {},
   "outputs": [],
   "source": [
    "# --> Nominal Data:\n",
    "#     > Nominal data is categorical in nature and consists of distinct categories or labels.\n",
    "#     > The categories in nominal data have no inherent order or ranking.\n",
    "#     > The only operation that can be performed on nominal data is counting the frequencies or proportions of each category.\n",
    "#     > Examples of nominal data include colors (red, blue, green), gender (male, female), or types of animals (cat, dog, bird).\n",
    "\n",
    "# --> Ordinal Data:\n",
    "#     > Ordinal data also consists of categories or labels, but these categories have a natural order or ranking.\n",
    "#     > The order of categories in ordinal data reflects some meaningful relationship or progression, but the \n",
    "#       intervals between categories are not necessarily equal or measurable.\n",
    "#     > While we can determine the relative position or ranking of categories, we cannot assume that the difference \n",
    "#         between categories is uniform.\n",
    "#     > In addition to counting frequencies or proportions, ordinal data allows for comparisons of the order or ranking \n",
    "#         between categories.\n",
    "#     > Examples of ordinal data include Likert scales used to measure attitudes or opinions (e.g., strongly agree, agree, neutral,\n",
    "#         disagree, strongly disagree) or educational levels (e.g., elementary, high school, bachelor's, master's, doctorate)."
   ]
  },
  {
   "cell_type": "markdown",
   "id": "6db6ced3-bdc8-4be2-b019-11c597a654da",
   "metadata": {},
   "source": [
    "#### Q8. Which type of plot can be used to display data in terms of range?"
   ]
  },
  {
   "cell_type": "code",
   "execution_count": null,
   "id": "e3dab57b-3374-48ed-bf20-d37b614e140a",
   "metadata": {},
   "outputs": [],
   "source": [
    "# --> A box plot provides a visual representation of the minimum, maximum, median, and quartiles of a dataset, giving a summary\n",
    "#     of the data's distribution and range. \n",
    "# --> The plot consists of a rectangular box that represents the interquartile range (the range between the first quartile and \n",
    "#     the third quartile), a horizontal line within the box that represents the median, and two lines extending from the box \n",
    "#     that represent the minimum and maximum values. \n",
    "# --> Additionally, outliers can be  displayed as individual points or small markers beyond the whiskers.\n",
    "# --> Box plots are particularly useful for comparing the range and distribution of data across different categories or groups. \n",
    "# --> They provide a concise summary of the spread and central tendency of the data, allowing for quick comparisons and \n",
    "#     identification of any potential outliers or extreme values."
   ]
  },
  {
   "cell_type": "markdown",
   "id": "75277ab2-14d1-4150-8dad-8cf6dacbe3f6",
   "metadata": {},
   "source": [
    "#### Q9. Describe the difference between descriptive and inferential statistics. Give an example of each type of statistics and explain how they are used."
   ]
  },
  {
   "cell_type": "code",
   "execution_count": null,
   "id": "56f822a7-1b87-4a91-a594-734695bcca5d",
   "metadata": {},
   "outputs": [],
   "source": [
    "# Descriptive Statistics:\n",
    "#     > Descriptive statistics involves summarizing and presenting data in a meaningful and concise manner.\n",
    "#     > It focuses on organizing, describing, and analyzing data to provide a snapshot of its main features.\n",
    "#     > Descriptive statistics aim to describe and summarize the main characteristics of a dataset, such as \n",
    "#       its central tendency, variability, and distribution.\n",
    "#     > Example: Mean and Standard Deviation\n",
    "\n",
    "# Inferential Statistics:\n",
    "#     > Inferential statistics involves making inferences, generalizations, or predictions about a population \n",
    "#       based on a sample of data. \n",
    "#     > It uses probability theory and statistical models to draw conclusions beyond the observed data and make\n",
    "#       statements about the larger population from which the sample was drawn. Inferential statistics aims to\n",
    "#       make valid and reliable inferences by quantifying the uncertainty associated with the conclusions.\n",
    "#     > Example: Hypothesis Testing\n"
   ]
  },
  {
   "cell_type": "markdown",
   "id": "562eb6c4-1536-4d86-8c36-3c4a1a42495c",
   "metadata": {},
   "source": [
    "#### Q10. What are some common measures of central tendency and variability used in statistics? Explain how each measure can be used to describe a dataset."
   ]
  },
  {
   "cell_type": "code",
   "execution_count": null,
   "id": "eea338b1-bd1c-41df-bfdb-345336c825b7",
   "metadata": {},
   "outputs": [],
   "source": [
    "# --> They provide information about the typical values in the data and the spread or dispersion of the values, \n",
    "#     respectively. Here are some common measures for each category:\n",
    "\n",
    "# Measures of Central Tendency:\n",
    "#     > Mean: The mean is the most commonly used measure of central tendency. \n",
    "#             - It is calculated by summing all the values in the dataset and dividing by the total number of observations. \n",
    "#             - The mean represents the average value of the dataset. It is sensitive to extreme values and is influenced by outliers.\n",
    "\n",
    "#     > Median: The median is the middle value in an ordered dataset when arranged in ascending or descending order. \n",
    "#             - It divides the dataset into two equal halves. The median is less affected by extreme values or outliers,\n",
    "#               making it a robust measure of central tendency. It is useful when the dataset contains skewed or \n",
    "#               non-normally distributed data.\n",
    "\n",
    "#     > Mode: The mode is the value or values that occur most frequently in a dataset. \n",
    "#           - It represents the most common value(s). The mode is especially useful for categorical or nominal data, \n",
    "#           - where the goal is to identify the most prevalent category or level.\n",
    "\n",
    "# Measures of Variability:\n",
    "#     > Range: The range is the simplest measure of variability and is calculated as the difference between the maximum and \n",
    "#              minimum values in a dataset. \n",
    "#            - It provides an estimate of the spread of values, but it is sensitive to extreme values and does not consider\n",
    "#              the distribution of values within the dataset.\n",
    "\n",
    "#     > Variance: Variance measures the average squared deviation from the mean. \n",
    "#            - It quantifies the dispersion of values around the mean. \n",
    "#            - A higher variance indicates greater variability, while a lower variance suggests less dispersion. \n",
    "#            - However, variance is not in the same units as the original data, making it difficult to interpret.\n",
    "\n",
    "#     > Standard Deviation: The standard deviation is the square root of the variance. It represents the average deviation\n",
    "#             from the mean in the original units of the data. Standard deviation provides a more easily interpretable\n",
    "#             measure of variability than variance. \n",
    "#            - A higher standard deviation indicates greater spread or dispersion of values, while a lower standard\n",
    "#              deviation suggests less variability.\n",
    "\n",
    "#     > Interquartile Range (IQR): The IQR is the range between the first quartile (25th percentile) and the third quartile\n",
    "#             (75th percentile) of a dataset. \n",
    "#            - It measures the spread of the middle 50% of the data, making it a robust measure of variability that is less\n",
    "#              affected by extreme values or outliers."
   ]
  }
 ],
 "metadata": {
  "kernelspec": {
   "display_name": "Python 3 (ipykernel)",
   "language": "python",
   "name": "python3"
  },
  "language_info": {
   "codemirror_mode": {
    "name": "ipython",
    "version": 3
   },
   "file_extension": ".py",
   "mimetype": "text/x-python",
   "name": "python",
   "nbconvert_exporter": "python",
   "pygments_lexer": "ipython3",
   "version": "3.10.8"
  }
 },
 "nbformat": 4,
 "nbformat_minor": 5
}
