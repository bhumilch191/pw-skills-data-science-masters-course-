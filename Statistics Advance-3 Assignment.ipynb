{
 "cells": [
  {
   "cell_type": "markdown",
   "id": "d4231920",
   "metadata": {},
   "source": [
    "### Q1: What is Estimation Statistics? Explain point estimate and interval estimate."
   ]
  },
  {
   "cell_type": "code",
   "execution_count": 1,
   "id": "1862a23e",
   "metadata": {},
   "outputs": [],
   "source": [
    "# > Estimation statistics is a branch of statistics that deals with estimating the value of a population parameter\n",
    "#   based on a sample statistic. There are two types of estimation: point estimate and interval estimate.\n",
    "\n",
    "# > A point estimate is a single value estimate of a parameter. For instance, a sample mean is a point estimate of\n",
    "#   a population mean. A point estimate provides an estimate of the population parameter but does not provide any\n",
    "#   information about the accuracy of the estimate.\n",
    "\n",
    "# > An interval estimate gives you a range of values where the parameter is expected to lie. A confidence interval \n",
    "#   is the most common type of interval estimate. A confidence interval provides an estimate of the population \n",
    "#   parameter along with an indication of how accurate the estimate is.\n",
    "\n",
    "# > The significance of interval estimates is that they provide more information about the population parameter\n",
    "#   than point estimates. Interval estimates give us an idea about how much uncertainty there is in our estimate\n",
    "#   of the population parameter."
   ]
  },
  {
   "cell_type": "markdown",
   "id": "816e6c28",
   "metadata": {},
   "source": [
    "### Q2. Write a Python function to estimate the population mean using a sample mean and standard deviation."
   ]
  },
  {
   "cell_type": "code",
   "execution_count": 2,
   "id": "efd3608f",
   "metadata": {},
   "outputs": [
    {
     "data": {
      "text/plain": [
       "45.559027645462315"
      ]
     },
     "execution_count": 2,
     "metadata": {},
     "output_type": "execute_result"
    }
   ],
   "source": [
    "def estimate_population_mean(sample_mean, sample_std_dev, sample_size):\n",
    "    return sample_mean * (1 + (1 / sample_size)) ** 0.5 * sample_std_dev\n",
    "estimate_population_mean(45,1,40)"
   ]
  },
  {
   "cell_type": "markdown",
   "id": "c66d303e",
   "metadata": {},
   "source": [
    "### Q3: What is Hypothesis testing? Why is it used? State the importance of Hypothesis testing."
   ]
  },
  {
   "cell_type": "code",
   "execution_count": 3,
   "id": "dd6f74d8",
   "metadata": {},
   "outputs": [],
   "source": [
    "# > Hypothesis testing is a statistical method that helps to determine if something really happened, if certain \n",
    "#   treatments have positive effects, if groups differ from each other, or if one variable predicts another.\n",
    "#   It is a crucial procedure to perform when making inferences about a population using a random sample. \n",
    "# > Hypothesis testing allows us to draw conclusions about an entire population based on a representative sample.\n",
    "# > It is a form of inferential statistics that evaluates two mutually exclusive statements about a population \n",
    "#   to determine which statement is best supported by the sample data.\n",
    "\n",
    "# > Hypothesis testing provides a framework for making determinations related to the population and helps to\n",
    "#   understand how reliably one can extrapolate observed findings in a sample under study to the larger population\n",
    "#   from which the sample was drawn.\n",
    "# > It is a proper technique used by scientists to support or reject statistical hypotheses"
   ]
  },
  {
   "cell_type": "markdown",
   "id": "74d5cefe",
   "metadata": {},
   "source": [
    "### Q4. Create a hypothesis that states whether the average weight of male college students is greater than the average weight of female college students."
   ]
  },
  {
   "cell_type": "code",
   "execution_count": 4,
   "id": "59458508",
   "metadata": {},
   "outputs": [],
   "source": [
    "# Null hypothesis: The average weight of male college students is equal to the average weight of female college students.\n",
    "\n",
    "# Alternative hypothesis: The average weight of male college students is greater than \n",
    "#     the average weight of female college students."
   ]
  },
  {
   "cell_type": "markdown",
   "id": "3ecc0eb4",
   "metadata": {},
   "source": [
    "### Q5. Write a Python script to conduct a hypothesis test on the difference between two population means, given a sample from each population."
   ]
  },
  {
   "cell_type": "code",
   "execution_count": 5,
   "id": "6dc4a54b",
   "metadata": {},
   "outputs": [
    {
     "name": "stdout",
     "output_type": "stream",
     "text": [
      "t-test: -33.39879731448107\n",
      "p-value: 2.7170479267581817e-83\n"
     ]
    }
   ],
   "source": [
    "import numpy as np\n",
    "from scipy.stats import ttest_ind\n",
    "\n",
    "# Generate two random samples\n",
    "sample1 = np.random.normal(10, 1, 100)\n",
    "sample2 = np.random.normal(15, 1, 100)\n",
    "\n",
    "# Calculate the t-test and p-value\n",
    "t_statistic, p_value = ttest_ind(sample1, sample2)\n",
    "\n",
    "\n",
    "print(\"t-test:\", t_statistic)\n",
    "print(\"p-value:\", p_value)"
   ]
  },
  {
   "cell_type": "markdown",
   "id": "08283ff3",
   "metadata": {},
   "source": [
    "### Q6: What is a null and alternative hypothesis? Give some examples."
   ]
  },
  {
   "cell_type": "code",
   "execution_count": 6,
   "id": "1da49754",
   "metadata": {},
   "outputs": [],
   "source": [
    "# > In statistical hypothesis testing,there are two hypotheses: the null hypothesis (H0) and the alternative hypothesis(HA).\n",
    "#     The null hypothesis is the one to be tested, while the alternative hypothesis is everything else. \n",
    "#     The null hypothesis represents the default state or well-established belief in a particular claim.\n",
    "#     The alternative hypothesis is typically against what is believed as true.\n",
    "\n",
    "# > examples of null and alternative hypotheses:\n",
    "#   1. Null hypothesis: The mean data scientist salary is $113,000. \n",
    "#      Alternative hypothesis: The mean data scientist salary is not $113,000.\n",
    "\n",
    "#   2. Null hypothesis: It is not true that buying stocks during down market will return higher return.\n",
    "#      Alternative hypothesis: Buying stocks during down market earns higher returns."
   ]
  },
  {
   "cell_type": "markdown",
   "id": "492f14d6",
   "metadata": {},
   "source": [
    "### Q7: Write down the steps involved in hypothesis testing."
   ]
  },
  {
   "cell_type": "code",
   "execution_count": 7,
   "id": "5410eeca",
   "metadata": {},
   "outputs": [],
   "source": [
    "# 1. State the null and alternative hypotheses.\n",
    "# 2. Set the level of significance.\n",
    "# 3. Collect and summarize data.\n",
    "# 4. Calculate the test statistic and corresponding p-value.\n",
    "# 5. Draw a conclusion."
   ]
  },
  {
   "cell_type": "markdown",
   "id": "667edc56",
   "metadata": {},
   "source": [
    "### Q8. Define p-value and explain its significance in hypothesis testing.\n"
   ]
  },
  {
   "cell_type": "code",
   "execution_count": 8,
   "id": "e4e40955",
   "metadata": {},
   "outputs": [],
   "source": [
    "# > The p-value is the probability of obtaining a test statistic as extreme or more extreme than the one observed in the\n",
    "#   sample data, assuming that the null hypothesis is true.\n",
    "\n",
    "# > In hypothesis testing, we use p-values to determine whether to reject or fail to reject the null hypothesis.\n",
    "#   If the p-value is less than or equal to the level of significance (alpha), we reject the null hypothesis.\n",
    "#   If the p-value is greater than alpha, we fail to reject the null hypothesis."
   ]
  },
  {
   "cell_type": "markdown",
   "id": "16108b1b",
   "metadata": {},
   "source": [
    "### Q9. Generate a Student's t-distribution plot using Python's matplotlib library, with the degrees of freedom parameter set to 10."
   ]
  },
  {
   "cell_type": "code",
   "execution_count": 9,
   "id": "218ae1e7",
   "metadata": {},
   "outputs": [
    {
     "data": {
      "image/png": "[encoded data removed]",
      "text/plain": [
       "<Figure size 640x480 with 1 Axes>"
      ]
     },
     "metadata": {},
     "output_type": "display_data"
    }
   ],
   "source": [
    "from scipy.stats import t\n",
    "import matplotlib.pyplot as plt\n",
    "\n",
    "# Generate t distribution with sample size 10000\n",
    "x = t.rvs(df=10, size=10000)\n",
    "\n",
    "# Create plot of t distribution\n",
    "plt.hist(x,density=True, edgecolor='black', bins=20)\n",
    "plt.show()"
   ]
  },
  {
   "cell_type": "markdown",
   "id": "80e8532e",
   "metadata": {},
   "source": [
    "### Q10. Write a Python program to calculate the two-sample t-test for independent samples, given two random samples of equal size and a null hypothesis that the population means are equal."
   ]
  },
  {
   "cell_type": "code",
   "execution_count": 10,
   "id": "f5b50863",
   "metadata": {},
   "outputs": [
    {
     "name": "stdout",
     "output_type": "stream",
     "text": [
      "t-statistic: -5.0\n",
      "p-value: 0.001052825793366539\n"
     ]
    }
   ],
   "source": [
    "# Sample data\n",
    "sample1 = [1, 2, 3, 4, 5]\n",
    "sample2 = [6, 7, 8, 9, 10]\n",
    "\n",
    "# Calculate t-test\n",
    "t_statistic, p_value = ttest_ind(sample1, sample2)\n",
    "\n",
    "print(\"t-statistic:\", t_statistic)\n",
    "print(\"p-value:\", p_value)"
   ]
  },
  {
   "cell_type": "markdown",
   "id": "dd9a0511",
   "metadata": {},
   "source": [
    "### Q11: What is Student’s t distribution? When to use the t-Distribution."
   ]
  },
  {
   "cell_type": "code",
   "execution_count": 11,
   "id": "e7bfee27",
   "metadata": {},
   "outputs": [],
   "source": [
    "# > Student’s t-distribution is a probability distribution that is used to estimate population parameters \n",
    "#   when the sample size is small or when the population variance is unknown. It is similar to the normal \n",
    "#     distribution but has heavier tails.\n",
    "\n",
    "# > The t-distribution is used when:\n",
    "#   > The sample size is small (less than 30).\n",
    "#   > The population variance is unknown.\n",
    "#   > The population is normally distributed.\n",
    "# > The t-distribution is used in hypothesis testing when the population variance is unknown and must be estimated \n",
    "#   from the sample data."
   ]
  },
  {
   "cell_type": "markdown",
   "id": "87f1b855",
   "metadata": {},
   "source": [
    "### Q12: What is t-statistic? State the formula for t-statistic."
   ]
  },
  {
   "cell_type": "code",
   "execution_count": 12,
   "id": "c1b26013",
   "metadata": {},
   "outputs": [],
   "source": [
    "# > The t-statistic is a measure of the difference between the means of two groups of data.\n",
    "#   It is calculated by dividing the difference between the means of the two groups by the standard error of the\n",
    "#     difference between the means. The formula for t-statistic is:\n",
    "\n",
    "# > t = (x̄1 - x̄2) / (s√(1/n1 + 1/n2))\n",
    "\n",
    "# > where x̄1 and x̄2 are the sample means, s is the pooled standard deviation, n1 and n2 are the sample sizes."
   ]
  },
  {
   "cell_type": "markdown",
   "id": "187f4bf0",
   "metadata": {},
   "source": [
    "### Q13. A coffee shop owner wants to estimate the average daily revenue for their shop. They take a random sample of 50 days and find the sample mean revenue to be $500 with a standard deviation of $50. Estimate the population mean revenue with a 95% confidence interval."
   ]
  },
  {
   "cell_type": "code",
   "execution_count": 13,
   "id": "0eb5e3ef",
   "metadata": {},
   "outputs": [],
   "source": [
    "# To estimate the population mean revenue with a 95% confidence interval, we can use the following formula:\n",
    "\n",
    "# CI = x̄ ± z*(s/√n)\n",
    "\n",
    "# where CI is the confidence interval, x̄ is the sample mean revenue ($500), s is the standard deviation ($50),\n",
    "# n is the sample size (50), and z is the z-score associated with a 95% confidence level (1.96).\n",
    "\n",
    "# Plugging in the values, we get:\n",
    "\n",
    "# CI = 500 ± 1.96*(50/√50) = [485.06, 514.94]\n",
    "\n",
    "# Therefore, we can be 95% confident that the true population mean revenue falls between $485.06 and $514.94."
   ]
  },
  {
   "cell_type": "markdown",
   "id": "764d7f0b",
   "metadata": {},
   "source": [
    "### Q14. A researcher hypothesizes that a new drug will decrease blood pressure by 10 mmHg. They conduct a clinical trial with 100 patients and find that the sample mean decrease in blood pressure is 8 mmHg with a standard deviation of 3 mmHg. Test the hypothesis with a significance level of 0.05."
   ]
  },
  {
   "cell_type": "code",
   "execution_count": 14,
   "id": "c1a70bd3",
   "metadata": {},
   "outputs": [],
   "source": [
    "# > To test the hypothesis that a new drug will decrease blood pressure by 10 mmHg with a significance level of 0.05, \n",
    "#   we can use a one-sample t-test.\n",
    "\n",
    "# > The null hypothesis (H0) is that there is no difference between the sample mean decrease in blood pressure and \n",
    "#   the hypothesized decrease of 10 mmHg. The alternative hypothesis (Ha) is that there is a difference.\n",
    "\n",
    "# > We can calculate the t-statistic using the following formula:\n",
    "\n",
    "# t = (x̄ - μ) / (s/√n)\n",
    "\n",
    "# > where x̄ is the sample mean decrease in blood pressure (8 mmHg), μ is the hypothesized decrease (10 mmHg), s is\n",
    "#   the standard deviation (3 mmHg), and n is the sample size (100).\n",
    "\n",
    "# > t = (8 - 10) / (3/√100) = -6.67\n",
    "\n",
    "# > The degrees of freedom for this test are n - 1 = 99. Using a t-table or calculator, we can find that the critical\n",
    "#   value for a one-tailed test with α = 0.05 and 99 degrees of freedom is -1.66.\n",
    "\n",
    "# > Since our calculated t-value (-6.67) is less than our critical value (-1.66), we reject the null hypothesis. \n",
    "#   This means that there is evidence to suggest that the new drug does decrease blood pressure by more than 10 mmHg."
   ]
  },
  {
   "cell_type": "markdown",
   "id": "4681d269",
   "metadata": {},
   "source": [
    "### Q15. An electronics company produces a certain type of product with a mean weight of 5 pounds and a standard deviation of 0.5 pounds. A random sample of 25 products is taken, and the sample mean weight is found to be 4.8 pounds. Test the hypothesis that the true mean weight of the products is less than 5 pounds with a significance level of 0.01."
   ]
  },
  {
   "cell_type": "code",
   "execution_count": 15,
   "id": "c0b5ce11",
   "metadata": {},
   "outputs": [],
   "source": [
    "# > To test the hypothesis that the true mean weight of the products is less than 5 pounds with a significance level\n",
    "#   of 0.01, we can use a one-sample t-test.\n",
    "\n",
    "# > The null hypothesis (H0) is that there is no difference between the sample mean weight and the hypothesized mean\n",
    "#   weight of 5 pounds. The alternative hypothesis (Ha) is that there is a difference.\n",
    "\n",
    "# We can calculate the t-statistic using the following formula:\n",
    "# t = (x̄ - μ) / (s/√n)\n",
    "\n",
    "# > where x̄ is the sample mean weight (4.8 pounds), μ is the hypothesized mean weight (5 pounds), s is the standard \n",
    "#   deviation (0.5 pounds), and n is the sample size (25).\n",
    "\n",
    "# > t = (4.8 - 5) / (0.5/√25) = -2\n",
    "\n",
    "# > The degrees of freedom for this test are n - 1 = 24. Using a t-table or calculator, we can find that the critical \n",
    "#   value for a one-tailed test with α = 0.01 and 24 degrees of freedom is -2.492.\n",
    "\n",
    "# > t-value (-2) is greater than our critical value (-2.492), we fail to reject the null hypothesis.\n",
    "#   This means that there is not enough evidence to suggest that the true mean weight of the products is less than\n",
    "#     5 pounds at a significance level of 0.01."
   ]
  },
  {
   "cell_type": "markdown",
   "id": "44c11e18",
   "metadata": {},
   "source": [
    "### Q16. Two groups of students are given different study materials to prepare for a test. The first group (n1 =30) has a mean score of 80 with a standard deviation of 10, and the second group (n2 = 40) has a mean score of 75 with a standard deviation of 8. Test the hypothesis that the population means for the two groups are equal with a significance level of 0.01."
   ]
  },
  {
   "cell_type": "code",
   "execution_count": 16,
   "id": "4ec6cc72",
   "metadata": {},
   "outputs": [],
   "source": [
    "# > To test the hypothesis that the population means for the two groups are equal with a significance level of 0.01,\n",
    "#   we can use a two-sample t-test for independent samples.\n",
    "\n",
    "# > The null hypothesis (H0) is that there is no difference between the population means for the two groups.\n",
    "#   The alternative hypothesis (Ha) is that there is a difference.\n",
    "\n",
    "# > t = (x̄1 - x̄2) / √(s1^2/n1 + s2^2/n2)\n",
    "\n",
    "# > where x̄1 and x̄2 are the sample means (80 and 75), s1 and s2 are the sample standard deviations (10 and 8), \n",
    "#   n1 and n2 are the sample sizes (30 and 40).\n",
    "\n",
    "# > t = (80 - 75) / √(10^2/30 + 8^2/40) = 2.29\n",
    "\n",
    "# > The degrees of freedom for this test are (n1 - 1) + (n2 - 1) = 68. Using a t-table or calculator,\n",
    "#   we can find that the critical value for a two-tailed test with α = 0.01 and 68 degrees of freedom is ±2.626.\n",
    "\n",
    "# > t-value (2.29) is less than our critical value (±2.626), we fail to reject the null hypothesis. \n",
    "#   This means that there is not enough evidence to suggest that the population means for the two groups are \n",
    "#     different at a significance level of 0.01."
   ]
  },
  {
   "cell_type": "markdown",
   "id": "6140606e",
   "metadata": {},
   "source": [
    "### Q17. A marketing company wants to estimate the average number of ads watched by viewers during a TV program. They take a random sample of 50 viewers and find that the sample mean is 4 with a standard deviation of 1.5. Estimate the population mean with a 99% confidence interval."
   ]
  },
  {
   "cell_type": "code",
   "execution_count": 17,
   "id": "a974a16f",
   "metadata": {},
   "outputs": [],
   "source": [
    "# > To estimate the population mean number of ads watched by viewers during a TV program with a 99% confidence interval,\n",
    "#   we can use the following formula:\n",
    "\n",
    "# > CI = x̄ ± z*(s/√n)\n",
    "\n",
    "# > where x̄ is the sample mean (4), s is the sample standard deviation (1.5), n is the sample size (50),\n",
    "#   and z is the critical value for our confidence level (99%). Using a z-table or calculator, we can find that z = ±2.576.\n",
    "\n",
    "\n",
    "# > CI = 4 ± 2.576*(1.5/√50) = [3.48, 4.52]\n",
    "\n",
    "# > we can be 99% confident that the true population mean number of ads watched by viewers during a TV program \n",
    "#   falls between 3.48 and 4.52."
   ]
  }
 ],
 "metadata": {
  "kernelspec": {
   "display_name": "Python 3 (ipykernel)",
   "language": "python",
   "name": "python3"
  },
  "language_info": {
   "codemirror_mode": {
    "name": "ipython",
    "version": 3
   },
   "file_extension": ".py",
   "mimetype": "text/x-python",
   "name": "python",
   "nbconvert_exporter": "python",
   "pygments_lexer": "ipython3",
   "version": "3.10.5"
  }
 },
 "nbformat": 4,
 "nbformat_minor": 5
}
