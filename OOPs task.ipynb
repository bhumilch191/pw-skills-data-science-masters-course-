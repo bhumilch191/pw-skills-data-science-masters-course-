{
 "cells": [
  {
   "cell_type": "code",
   "execution_count": 1,
   "id": "ab6f97be",
   "metadata": {},
   "outputs": [],
   "source": [
    "\"\"\" Q1. Create a vehicle class with an init method having instance variables as name_of_vehicle, max_speed\n",
    " and average_of_vehicle.\"\"\""
   ]
  },
  {
   "cell_type": "code",
   "execution_count": 5,
   "id": "f9ec6b07",
   "metadata": {},
   "outputs": [],
   "source": [
    "class vehicle:\n",
    "    def __init__(self,name,speed,average):\n",
    "        self.name_of_vehicle = name\n",
    "        self.max_speed = speed\n",
    "        self.average_of_vehicle=average"
   ]
  },
  {
   "cell_type": "code",
   "execution_count": 3,
   "id": "e85fb305",
   "metadata": {},
   "outputs": [
    {
     "data": {
      "text/plain": [
       "'Q2. Create a child class car from the vehicle class created in Que 1, which will inherit the vehicle class.\\nCreate a method named seating_capacity which takes capacity as an argument and returns the name of\\nthe vehicle and its seating capacity.'"
      ]
     },
     "execution_count": 3,
     "metadata": {},
     "output_type": "execute_result"
    }
   ],
   "source": [
    "\"\"\"Q2. Create a child class car from the vehicle class created in Que 1, which will inherit the vehicle class.\n",
    "Create a method named seating_capacity which takes capacity as an argument and returns the name of\n",
    "the vehicle and its seating capacity.\"\"\""
   ]
  },
  {
   "cell_type": "code",
   "execution_count": 6,
   "id": "41aedc55",
   "metadata": {},
   "outputs": [],
   "source": [
    "class car(vehicle):\n",
    "    def seating_capacity(self,capacity):\n",
    "        self.capacity = capacity\n",
    "        return self.name_of_vehicle,self.capacity"
   ]
  },
  {
   "cell_type": "code",
   "execution_count": 13,
   "id": "2066f99d",
   "metadata": {},
   "outputs": [],
   "source": [
    "obj_initiate = vehicle(\"volvo\",240,10)"
   ]
  },
  {
   "cell_type": "code",
   "execution_count": 16,
   "id": "9c5a6a23",
   "metadata": {},
   "outputs": [
    {
     "data": {
      "text/plain": [
       "'240'"
      ]
     },
     "execution_count": 16,
     "metadata": {},
     "output_type": "execute_result"
    }
   ],
   "source": [
    "obj_initiate.max_speed"
   ]
  },
  {
   "cell_type": "code",
   "execution_count": 11,
   "id": "6aa192e9",
   "metadata": {},
   "outputs": [
    {
     "data": {
      "text/plain": [
       "('volvo', 5)"
      ]
     },
     "execution_count": 11,
     "metadata": {},
     "output_type": "execute_result"
    }
   ],
   "source": [
    "obj_car = car(\"volvo\",240,10)\n",
    "obj_car.seating_capacity(5)"
   ]
  },
  {
   "cell_type": "code",
   "execution_count": 19,
   "id": "a14baa1e",
   "metadata": {},
   "outputs": [
    {
     "data": {
      "text/plain": [
       "'Class2 method...'"
      ]
     },
     "execution_count": 19,
     "metadata": {},
     "output_type": "execute_result"
    }
   ],
   "source": [
    "# Q3. What is multiple inheritance? Write a python code to demonstrate multiple inheritance.\n",
    "# --> When a class is derived from more than one base class it is called multiple Inheritance. \n",
    "#     The derived class inherits all the features of the base case.\n",
    "\n",
    "class class1:\n",
    "    def m1(self):\n",
    "        return \"Class1 method...\"\n",
    "class class2:\n",
    "    def m2(self):\n",
    "        return \"Class2 method...\"\n",
    "class class3(class1,class2):\n",
    "    def m3(self):\n",
    "        return \"Class3 method...\"\n",
    "    \n",
    "obj1 = class3()\n",
    "obj1.m2()"
   ]
  },
  {
   "cell_type": "code",
   "execution_count": 20,
   "id": "8842a8fe",
   "metadata": {},
   "outputs": [
    {
     "data": {
      "text/plain": [
       "'Class3 method...'"
      ]
     },
     "execution_count": 20,
     "metadata": {},
     "output_type": "execute_result"
    }
   ],
   "source": [
    "obj1.m3()"
   ]
  },
  {
   "cell_type": "code",
   "execution_count": 21,
   "id": "7f6b3504",
   "metadata": {},
   "outputs": [
    {
     "data": {
      "text/plain": [
       "'Class1 method...'"
      ]
     },
     "execution_count": 21,
     "metadata": {},
     "output_type": "execute_result"
    }
   ],
   "source": [
    "obj1.m1()"
   ]
  },
  {
   "cell_type": "code",
   "execution_count": 22,
   "id": "2e355373",
   "metadata": {},
   "outputs": [
    {
     "name": "stdout",
     "output_type": "stream",
     "text": [
      "setter method called\n",
      "getter method called\n",
      "19\n"
     ]
    }
   ],
   "source": [
    "# Q4. What are getter and setter in python? Create a class and create a getter and a setter method in this\n",
    "# class.\n",
    "# --> In this method private variable cnnot be accessed directly or modified by external users.\n",
    "#     getter for get value and setter for set value.\n",
    "\n",
    "\n",
    "class Geeks:\n",
    "     def __init__(self):\n",
    "          self._age = 0\n",
    "       \n",
    "     # using property decorator\n",
    "     # a getter function\n",
    "     @property\n",
    "     def age(self):\n",
    "         print(\"getter method called\")\n",
    "         return self._age\n",
    "       \n",
    "     # a setter function\n",
    "     @age.setter\n",
    "     def age(self, a):\n",
    "         if(a < 18):\n",
    "            raise ValueError(\"Sorry you age is below eligibility criteria\")\n",
    "         print(\"setter method called\")\n",
    "         self._age = a\n",
    "  \n",
    "mark = Geeks()\n",
    "  \n",
    "mark.age = 19\n",
    "  \n",
    "print(mark.age)"
   ]
  },
  {
   "cell_type": "code",
   "execution_count": 25,
   "id": "8919034f",
   "metadata": {},
   "outputs": [
    {
     "name": "stdout",
     "output_type": "stream",
     "text": [
      "3\n",
      "4\n"
     ]
    }
   ],
   "source": [
    "# Q5.What is method overriding in python? Write a python code to demonstrate method overriding.\n",
    "# -->Method overloading defin as When two or more methods have the same name but different numbers of \n",
    "#    parameters or different types of parameters or both.\n",
    "#  for example:\n",
    "\n",
    "def add(a=None, b=None):\n",
    "    if (a!=None and b==None):\n",
    "        print(a)\n",
    "    else:\n",
    "        print(a+b)\n",
    "\n",
    "add(1,2)\n",
    "add(4)"
   ]
  },
  {
   "cell_type": "code",
   "execution_count": null,
   "id": "1a39da9a",
   "metadata": {},
   "outputs": [],
   "source": []
  }
 ],
 "metadata": {
  "kernelspec": {
   "display_name": "Python 3 (ipykernel)",
   "language": "python",
   "name": "python3"
  },
  "language_info": {
   "codemirror_mode": {
    "name": "ipython",
    "version": 3
   },
   "file_extension": ".py",
   "mimetype": "text/x-python",
   "name": "python",
   "nbconvert_exporter": "python",
   "pygments_lexer": "ipython3",
   "version": "3.10.5"
  }
 },
 "nbformat": 4,
 "nbformat_minor": 5
}
